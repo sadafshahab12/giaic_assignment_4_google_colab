{
  "nbformat": 4,
  "nbformat_minor": 0,
  "metadata": {
    "colab": {
      "provenance": [],
      "authorship_tag": "ABX9TyOQjF0bXCif0qRt7jwn13LF",
      "include_colab_link": true
    },
    "kernelspec": {
      "name": "python3",
      "display_name": "Python 3"
    },
    "language_info": {
      "name": "python"
    }
  },
  "cells": [
    {
      "cell_type": "markdown",
      "metadata": {
        "id": "view-in-github",
        "colab_type": "text"
      },
      "source": [
        "<a href=\"https://colab.research.google.com/github/sadafshahab12/giaic_assignment_4_google_colab/blob/main/05_loops_control_flow.ipynb\" target=\"_parent\"><img src=\"https://colab.research.google.com/assets/colab-badge.svg\" alt=\"Open In Colab\"/></a>"
      ]
    },
    {
      "cell_type": "markdown",
      "source": [
        "### 00_guess_my_number"
      ],
      "metadata": {
        "id": "KpcTpaPh8iBt"
      }
    },
    {
      "cell_type": "code",
      "execution_count": 1,
      "metadata": {
        "colab": {
          "base_uri": "https://localhost:8080/"
        },
        "id": "K7yfOFmv8dqK",
        "outputId": "be3a865d-b548-40cc-af1a-4ccad4df25c5"
      },
      "outputs": [
        {
          "output_type": "stream",
          "name": "stdout",
          "text": [
            "I am thinking of number between 1 and 99\n",
            "Enter a guess: 5\n",
            "you guess is too low\n",
            "\n",
            "Enter a guess: 30\n",
            "you guess is too high\n",
            "\n",
            "Enter a guess: 20\n",
            "you guess is too high\n",
            "\n",
            "Enter a guess: 15\n",
            "Congrats! The number was 15\n"
          ]
        }
      ],
      "source": [
        "import random\n",
        "def main():\n",
        "    computer_generated_guess = random.randint(1, 99)\n",
        "    print(\"I am thinking of number between 1 and 99\")\n",
        "    user_guess = int(input(\"Enter a guess: \"))\n",
        "    while user_guess != computer_generated_guess:\n",
        "        if user_guess < computer_generated_guess:\n",
        "            print(\"you guess is too low\")\n",
        "        else:\n",
        "            print(\"you guess is too high\")\n",
        "\n",
        "        print()\n",
        "        user_guess = int(input(\"Enter a guess: \"))\n",
        "    print(f\"Congrats! The number was {computer_generated_guess}\")\n",
        "\n",
        "\n",
        "if __name__ == \"__main__\":\n",
        "    main()\n"
      ]
    },
    {
      "cell_type": "markdown",
      "source": [
        "### 01_fibonacc"
      ],
      "metadata": {
        "id": "GOT3iay2_Nga"
      }
    },
    {
      "cell_type": "code",
      "source": [
        "MAX_TERM_VAL = 10000\n",
        "def main():\n",
        "    curr_term = 0\n",
        "    next_term = 1\n",
        "\n",
        "    while curr_term <= MAX_TERM_VAL:\n",
        "        print(curr_term, end=\"  \")\n",
        "\n",
        "        term_after_next = curr_term + next_term\n",
        "        curr_term = next_term\n",
        "        next_term = term_after_next\n",
        "\n",
        "\n",
        "if __name__ == \"__main__\":\n",
        "    main()"
      ],
      "metadata": {
        "colab": {
          "base_uri": "https://localhost:8080/"
        },
        "id": "tJshJulj_PKq",
        "outputId": "07a59fc0-4dda-4794-d79e-5de7780108ed"
      },
      "execution_count": 4,
      "outputs": [
        {
          "output_type": "stream",
          "name": "stdout",
          "text": [
            "0  1  1  2  3  5  8  13  21  34  55  89  144  233  377  610  987  1597  2584  4181  6765  "
          ]
        }
      ]
    },
    {
      "cell_type": "markdown",
      "source": [
        "### 02_print_events"
      ],
      "metadata": {
        "id": "83v965l8A7cA"
      }
    },
    {
      "cell_type": "code",
      "source": [
        "def main():\n",
        "    for num in range(0, 20):\n",
        "        print(num * 2 , end=\" \")\n",
        "\n",
        "if __name__ == \"__main__\":\n",
        "    main()"
      ],
      "metadata": {
        "colab": {
          "base_uri": "https://localhost:8080/"
        },
        "id": "3fAx6seXA1x4",
        "outputId": "83b4d818-80d3-4c46-fc8f-522aad6da19e"
      },
      "execution_count": 5,
      "outputs": [
        {
          "output_type": "stream",
          "name": "stdout",
          "text": [
            "0 2 4 6 8 10 12 14 16 18 20 22 24 26 28 30 32 34 36 38 "
          ]
        }
      ]
    },
    {
      "cell_type": "markdown",
      "source": [
        "### 03_wholesome_machine"
      ],
      "metadata": {
        "id": "thUGEum0Bwcf"
      }
    },
    {
      "cell_type": "code",
      "source": [
        "AFFIRMATION = \"I am capable of doing anything I put my mind to.\"\n",
        "def main():\n",
        "    print(f\"Please type the following affirmation: {AFFIRMATION}\")\n",
        "    user_input = input()\n",
        "    while user_input != AFFIRMATION:\n",
        "        print(\"That was not the affirmation\")\n",
        "        print(f\"Please type the following affirmation: {AFFIRMATION}\")\n",
        "\n",
        "        user_input = input()\n",
        "    print(\"That's right!\")\n",
        "\n",
        "\n",
        "if __name__ == \"__main__\":\n",
        "    main()\n"
      ],
      "metadata": {
        "colab": {
          "base_uri": "https://localhost:8080/"
        },
        "id": "x5wRpJ1QBwP_",
        "outputId": "6ffb2c38-fb17-4b35-d5cb-835375371b6c"
      },
      "execution_count": 7,
      "outputs": [
        {
          "output_type": "stream",
          "name": "stdout",
          "text": [
            "Please type the following affirmation: I am capable of doing anything I put my mind to.\n",
            "i am capable of doing anything i put my minf to\n",
            "That was not the affirmation\n",
            "Please type the following affirmation: I am capable of doing anything I put my mind to.\n",
            "I am capable of doing anything I put my mind to.\n",
            "That's right!\n"
          ]
        }
      ]
    },
    {
      "cell_type": "markdown",
      "source": [
        "### 04_liftoff"
      ],
      "metadata": {
        "id": "tNODIcttDPvN"
      }
    },
    {
      "cell_type": "code",
      "source": [
        "def main():\n",
        "    for i in range(10, 0, -1):\n",
        "        print(i)\n",
        "    print(\"liftoff!\")\n",
        "\n",
        "\n",
        "if __name__ == \"__main__\":\n",
        "    main()"
      ],
      "metadata": {
        "colab": {
          "base_uri": "https://localhost:8080/"
        },
        "id": "CABd4ayCDEod",
        "outputId": "40cef6db-f9cb-4dea-e97c-795ac553a860"
      },
      "execution_count": 8,
      "outputs": [
        {
          "output_type": "stream",
          "name": "stdout",
          "text": [
            "10\n",
            "9\n",
            "8\n",
            "7\n",
            "6\n",
            "5\n",
            "4\n",
            "3\n",
            "2\n",
            "1\n",
            "liftoff!\n"
          ]
        }
      ]
    },
    {
      "cell_type": "markdown",
      "source": [
        "### 05_double_it."
      ],
      "metadata": {
        "id": "wTHYeSyMGhfK"
      }
    },
    {
      "cell_type": "code",
      "source": [
        "def main():\n",
        "  curr_value = int(input(\"Enter a number: \"))\n",
        "  while curr_value < 100:\n",
        "    curr_value = curr_value * 2\n",
        "    print(curr_value, end=\" \")\n",
        "\n",
        "if __name__ == \"__main__\":\n",
        "  main()"
      ],
      "metadata": {
        "colab": {
          "base_uri": "https://localhost:8080/"
        },
        "id": "xYL1_uwTGjcx",
        "outputId": "5137054c-672b-4181-8d56-7ffb983a192f"
      },
      "execution_count": 10,
      "outputs": [
        {
          "output_type": "stream",
          "name": "stdout",
          "text": [
            "Enter a number: 2\n",
            "4 8 16 32 64 128 "
          ]
        }
      ]
    }
  ]
}