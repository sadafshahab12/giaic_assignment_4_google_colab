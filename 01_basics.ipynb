{
  "nbformat": 4,
  "nbformat_minor": 0,
  "metadata": {
    "colab": {
      "provenance": [],
      "authorship_tag": "ABX9TyNruRhT9lEm9HLG/62EtkAV",
      "include_colab_link": true
    },
    "kernelspec": {
      "name": "python3",
      "display_name": "Python 3"
    },
    "language_info": {
      "name": "python"
    }
  },
  "cells": [
    {
      "cell_type": "markdown",
      "metadata": {
        "id": "view-in-github",
        "colab_type": "text"
      },
      "source": [
        "<a href=\"https://colab.research.google.com/github/sadafshahab12/giaic_assignment_4_google_colab/blob/main/01_basics.ipynb\" target=\"_parent\"><img src=\"https://colab.research.google.com/assets/colab-badge.svg\" alt=\"Open In Colab\"/></a>"
      ]
    },
    {
      "cell_type": "markdown",
      "source": [
        "### 00_joke_bot"
      ],
      "metadata": {
        "id": "4zFvENvzXtS4"
      }
    },
    {
      "cell_type": "code",
      "execution_count": null,
      "metadata": {
        "colab": {
          "base_uri": "https://localhost:8080/"
        },
        "id": "3L0AHapfXqxF",
        "outputId": "3b0e099f-f789-47f0-9328-c81d56c6c777"
      },
      "outputs": [
        {
          "output_type": "stream",
          "name": "stdout",
          "text": [
            "What do you want? joke\n",
            "Panaversity GPT - Sophia is heading out to the grocery store. A programmer tells her: get a liter of milk, and if they have eggs, get 12. Sophia returns with 13 liters of milk. The programmer asks why and Sophia replies: 'because they had eggs\n"
          ]
        }
      ],
      "source": [
        "PROMPT = \"What do you want? \"\n",
        "JOKE = \"Panaversity GPT - Sophia is heading out to the grocery store. A programmer tells her: get a liter of milk, and if they have eggs, get 12. Sophia returns with 13 liters of milk. The programmer asks why and Sophia replies: 'because they had eggs\"\n",
        "SORRY = \"Sorry, I only tell jokes.\"\n",
        "\n",
        "\n",
        "def main():\n",
        "    user_input = input(PROMPT)\n",
        "    if user_input.strip().lower() == \"joke\":\n",
        "        print(JOKE)\n",
        "    else:\n",
        "        print(SORRY)\n",
        "\n",
        "\n",
        "if __name__ == \"__main__\":\n",
        "    main()"
      ]
    },
    {
      "cell_type": "markdown",
      "source": [
        "### 01_double_it"
      ],
      "metadata": {
        "id": "4Ri11gG7bqJL"
      }
    },
    {
      "cell_type": "code",
      "source": [
        "def main():\n",
        "  curr_value = int(input(\"Enter a number: \"))\n",
        "  while curr_value < 100:\n",
        "    curr_value = curr_value * 2\n",
        "    print(curr_value , end=\" \")\n",
        "\n",
        "if __name__ == \"__main__\":\n",
        "  main()"
      ],
      "metadata": {
        "colab": {
          "base_uri": "https://localhost:8080/"
        },
        "id": "4gjyERa6btSD",
        "outputId": "79bae0d8-dea1-4f6b-cca5-8667bc0f4882"
      },
      "execution_count": null,
      "outputs": [
        {
          "output_type": "stream",
          "name": "stdout",
          "text": [
            "Enter a number: 2\n",
            "4 8 16 32 64 128 "
          ]
        }
      ]
    },
    {
      "cell_type": "markdown",
      "source": [
        "### 02_liftoff"
      ],
      "metadata": {
        "id": "s8jUkApZd6gR"
      }
    },
    {
      "cell_type": "code",
      "source": [
        "def main():\n",
        "  for i in range(10, 0, -1):\n",
        "    print(i)\n",
        "  print(\"Liftoff\")\n",
        "\n",
        "if __name__ == \"__main__\":\n",
        "  main()"
      ],
      "metadata": {
        "colab": {
          "base_uri": "https://localhost:8080/"
        },
        "id": "mzJf2MIAeJMA",
        "outputId": "66f9edb6-fc08-4e28-df2c-06e0bb5ae3f1"
      },
      "execution_count": null,
      "outputs": [
        {
          "output_type": "stream",
          "name": "stdout",
          "text": [
            "10\n",
            "9\n",
            "8\n",
            "7\n",
            "6\n",
            "5\n",
            "4\n",
            "3\n",
            "2\n",
            "1\n",
            "Liftoff\n"
          ]
        }
      ]
    },
    {
      "cell_type": "markdown",
      "source": [
        "### 03_guess_my_number"
      ],
      "metadata": {
        "id": "NPgFoF_DevXv"
      }
    },
    {
      "cell_type": "code",
      "source": [
        "import random\n",
        "\n",
        "guess_number = random.randint(0, 99)\n",
        "\n",
        "\n",
        "def main():\n",
        "    user_guess = int(input(\"Enter a guess: \"))\n",
        "    while user_guess != guess_number:\n",
        "        if user_guess > guess_number:\n",
        "            print(\"Your guess is too high\")\n",
        "        else:\n",
        "            print(\"Your guess is too low\")\n",
        "        print()\n",
        "        user_guess = int(input(\"Enter a new number: \"))\n",
        "    print(f\"Congrats! The number was: {guess_number}\")\n",
        "\n",
        "\n",
        "if __name__ == \"__main__\":\n",
        "    main()"
      ],
      "metadata": {
        "id": "7PP0wDhVe6Ef",
        "colab": {
          "base_uri": "https://localhost:8080/"
        },
        "outputId": "3efa4a94-8cdb-423c-dec5-3d28483b4080"
      },
      "execution_count": 1,
      "outputs": [
        {
          "output_type": "stream",
          "name": "stdout",
          "text": [
            "Enter a guess: 8\n",
            "Your guess is too low\n",
            "\n",
            "Enter a new number: 30\n",
            "Your guess is too low\n",
            "\n",
            "Enter a new number: 40\n",
            "Your guess is too low\n",
            "\n",
            "Enter a new number: 50\n",
            "Your guess is too low\n",
            "\n",
            "Enter a new number: 80\n",
            "Congrats! The number was: 80\n"
          ]
        }
      ]
    },
    {
      "cell_type": "markdown",
      "source": [
        "###04_random_numbers"
      ],
      "metadata": {
        "id": "mPCemajz8MyD"
      }
    },
    {
      "cell_type": "code",
      "source": [
        "import random\n",
        "\n",
        "num = 10\n",
        "min_val = 1\n",
        "max_val = 100\n",
        "def main():\n",
        "  for i in range(num):\n",
        "    random_number = random.randint(min_val, max_val)\n",
        "    print(random_number , end=\" \")\n",
        "\n",
        "if __name__ == \"__main__\":\n",
        "  main()"
      ],
      "metadata": {
        "colab": {
          "base_uri": "https://localhost:8080/"
        },
        "id": "FlJvrGGt8Oz7",
        "outputId": "3ca2fdb8-ea47-447b-a84a-282dc4a5d64a"
      },
      "execution_count": 4,
      "outputs": [
        {
          "output_type": "stream",
          "name": "stdout",
          "text": [
            "81 78 79 88 9 99 76 77 98 93 "
          ]
        }
      ]
    }
  ]
}