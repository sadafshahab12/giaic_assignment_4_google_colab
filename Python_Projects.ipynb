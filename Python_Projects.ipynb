{
  "nbformat": 4,
  "nbformat_minor": 0,
  "metadata": {
    "colab": {
      "provenance": [],
      "authorship_tag": "ABX9TyNUeQL0vMA3l/Jp0XBBJq8w",
      "include_colab_link": true
    },
    "kernelspec": {
      "name": "python3",
      "display_name": "Python 3"
    },
    "language_info": {
      "name": "python"
    }
  },
  "cells": [
    {
      "cell_type": "markdown",
      "metadata": {
        "id": "view-in-github",
        "colab_type": "text"
      },
      "source": [
        "<a href=\"https://colab.research.google.com/github/sadafshahab12/giaic_assignment_4_google_colab/blob/main/Python_Projects.ipynb\" target=\"_parent\"><img src=\"https://colab.research.google.com/assets/colab-badge.svg\" alt=\"Open In Colab\"/></a>"
      ]
    },
    {
      "cell_type": "markdown",
      "source": [
        "## Project 1 : Mad libs"
      ],
      "metadata": {
        "id": "pAZ2JhW7AMdD"
      }
    },
    {
      "cell_type": "code",
      "execution_count": null,
      "metadata": {
        "id": "Uug1oAG6-7jb"
      },
      "outputs": [],
      "source": [
        "adj = input(\"Adjective: \")\n",
        "verb1 = input(\"Verb 1 : \")\n",
        "verb2 = input(\"Verb 2 : \")\n",
        "famous_person = input(\"Famouse Person: \")\n",
        "\n",
        "madlib = f\"Computer programming is so {adj}! It makes me so excited all the time because \\n I love to {verb1}. Stay hydrated and {verb2} like you are {famous_person}\"\n",
        "print(madlib)"
      ]
    },
    {
      "cell_type": "markdown",
      "source": [
        "##Project 2: Guess the Number (comp)"
      ],
      "metadata": {
        "id": "jSwTmNZNATox"
      }
    },
    {
      "cell_type": "code",
      "source": [
        "import random\n",
        "\n",
        "\n",
        "def guess(a):\n",
        "    random_number = random.randint(1, a)\n",
        "    guess = 0\n",
        "    while guess != random_number:\n",
        "        guess = int(input(f\"Guess a number between 1 and {a}: \"))\n",
        "        if guess < random_number:\n",
        "            print(\"Sorry, guess again. Too Low\")\n",
        "        elif guess > random_number:\n",
        "            print(\"Sorry, guess again. Too High\")\n",
        "\n",
        "    print(f\"Yay, congrats, you have guess the number {random_number} correctly.\")\n",
        "\n",
        "\n",
        "guess(10)"
      ],
      "metadata": {
        "colab": {
          "base_uri": "https://localhost:8080/"
        },
        "id": "uTDMZLIpAXTB",
        "outputId": "dd6d1115-1a09-4c36-a82b-5fa8c0292162"
      },
      "execution_count": null,
      "outputs": [
        {
          "output_type": "stream",
          "name": "stdout",
          "text": [
            "Guess a number between 1 and 10: 5\n",
            "Yay, congrats, you have guess the number 5 correctly.\n"
          ]
        }
      ]
    },
    {
      "cell_type": "markdown",
      "source": [
        "## Project 3: Guess the Number Game  (user)"
      ],
      "metadata": {
        "id": "nlxZwkjmQedH"
      }
    },
    {
      "cell_type": "code",
      "source": [
        "import random\n",
        "\n",
        "\n",
        "def comp_guess(a):\n",
        "    low = 1\n",
        "    high = a\n",
        "    feedback = \"\"\n",
        "    while feedback != \"c\":\n",
        "        if low != high:\n",
        "            guess = random.randint(low ,high)\n",
        "        else:\n",
        "            guess = low\n",
        "        feedback = input(f\"Is {guess} to high (H) , too low (L) or correct (C)? \").lower()\n",
        "        if feedback == \"h\":\n",
        "            high = guess - 1\n",
        "        elif feedback == \"l\":\n",
        "            low = guess + 1\n",
        "    print(f\"Yay, The computer guess your number {guess} correctly.\")\n",
        "\n",
        "\n",
        "\n",
        "comp_guess(10)\n"
      ],
      "metadata": {
        "colab": {
          "base_uri": "https://localhost:8080/"
        },
        "id": "kHKAMo62Qid2",
        "outputId": "993662c0-7f52-46b2-e0c0-7ab2f15fa0bf"
      },
      "execution_count": null,
      "outputs": [
        {
          "output_type": "stream",
          "name": "stdout",
          "text": [
            "Is 2 to high (H) , too low (L) or correct (C)? l\n",
            "Is 9 to high (H) , too low (L) or correct (C)? h\n",
            "Is 3 to high (H) , too low (L) or correct (C)? c\n",
            "Yay, The computer guess your number 3 correctly.\n"
          ]
        }
      ]
    },
    {
      "cell_type": "markdown",
      "source": [
        "## Project 4: Rock, paper, scissors"
      ],
      "metadata": {
        "id": "_Az7Bnn6UTkr"
      }
    },
    {
      "cell_type": "code",
      "source": [
        "import random\n",
        "\n",
        "def play():\n",
        "    user = input(\"What is your choice: r for rock , p for paper, s for scissor: \")\n",
        "    computer = random.choice([\"r\", \"p\", \"s\"])\n",
        "\n",
        "    if user == computer:\n",
        "        return \"Its a tie\"\n",
        "    if is_win(user, computer):\n",
        "        return \"You win!\"\n",
        "    return \"You lose!\"\n",
        "\n",
        "\n",
        "def is_win(player, opponent):\n",
        "    if (\n",
        "        (player == \"r\" and opponent == \"s\")\n",
        "        or (player == \"s\" and opponent == \"p\")\n",
        "        or (player == \"p\" and opponent == \"r\")\n",
        "    ):\n",
        "        return True\n",
        "\n",
        "\n",
        "print(play())\n"
      ],
      "metadata": {
        "colab": {
          "base_uri": "https://localhost:8080/"
        },
        "id": "dLwwExD0UgSr",
        "outputId": "84351d48-2994-40ee-8626-ed443b079730"
      },
      "execution_count": null,
      "outputs": [
        {
          "output_type": "stream",
          "name": "stdout",
          "text": [
            "What is your choice: r for rock , p for paper, s for scissor: p\n",
            "You win!\n"
          ]
        }
      ]
    }
  ]
}