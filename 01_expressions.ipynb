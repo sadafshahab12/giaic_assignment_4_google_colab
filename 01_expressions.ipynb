{
  "nbformat": 4,
  "nbformat_minor": 0,
  "metadata": {
    "colab": {
      "provenance": [],
      "authorship_tag": "ABX9TyNvgRo2/x6Z5Nd4Sv+tjtbq",
      "include_colab_link": true
    },
    "kernelspec": {
      "name": "python3",
      "display_name": "Python 3"
    },
    "language_info": {
      "name": "python"
    }
  },
  "cells": [
    {
      "cell_type": "markdown",
      "metadata": {
        "id": "view-in-github",
        "colab_type": "text"
      },
      "source": [
        "<a href=\"https://colab.research.google.com/github/sadafshahab12/giaic_assignment_4_google_colab/blob/main/01_expressions.ipynb\" target=\"_parent\"><img src=\"https://colab.research.google.com/assets/colab-badge.svg\" alt=\"Open In Colab\"/></a>"
      ]
    },
    {
      "cell_type": "markdown",
      "source": [
        "### 01_dicesimulator"
      ],
      "metadata": {
        "id": "z1QPnygYsegO"
      }
    },
    {
      "cell_type": "code",
      "execution_count": 1,
      "metadata": {
        "colab": {
          "base_uri": "https://localhost:8080/"
        },
        "id": "jrT9VE_1sSPS",
        "outputId": "41aba54d-ad69-4548-efb3-9db2a0a30591"
      },
      "outputs": [
        {
          "output_type": "stream",
          "name": "stdout",
          "text": [
            "Die 1: 6 , Die 2: 2\n",
            "Total : 8\n",
            "Die 1: 2 , Die 2: 5\n",
            "Total : 7\n",
            "Die 1: 3 , Die 2: 4\n",
            "Total : 7\n"
          ]
        }
      ],
      "source": [
        "import random\n",
        "num_sides = 6  # Number of sides on the dice  #variable scope\n",
        "\n",
        "\n",
        "def roll_dice():\n",
        "    \"\"\"Simulate rolling two dice and return the results.\"\"\"\n",
        "    die_1 = random.randint(1, num_sides)\n",
        "    die_2 = random.randint(1, num_sides)\n",
        "    print(f\"Die 1: {die_1} , Die 2: {die_2}\")\n",
        "    total = die_1 + die_2\n",
        "    print(f\"Total : {total}\")\n",
        "\n",
        "\n",
        "def main():\n",
        "    # die_1 = 10\n",
        "    \"\"\"Roll dice three times\"\"\"\n",
        "    roll_dice()\n",
        "    roll_dice()\n",
        "    roll_dice()\n",
        "    # print(die_1)\n",
        "\n",
        "\n",
        "if __name__ == \"__main__\":\n",
        "    main()\n"
      ]
    },
    {
      "cell_type": "markdown",
      "source": [
        "### 02_e=mc2"
      ],
      "metadata": {
        "id": "c4GcvsA3spSl"
      }
    },
    {
      "cell_type": "code",
      "source": [
        "def main():\n",
        "    m = float(input(\"Enter kilo of mass: \"))\n",
        "    c = 299792458\n",
        "    e = m * c**2\n",
        "\n",
        "    print(f\"{e} joules of energy!\")\n",
        "\n",
        "\n",
        "if __name__ == \"__main__\":\n",
        "    main()\n"
      ],
      "metadata": {
        "colab": {
          "base_uri": "https://localhost:8080/"
        },
        "id": "rvjYSjtisstO",
        "outputId": "f7a05b08-9ade-4587-d542-eccc9f01c334"
      },
      "execution_count": 2,
      "outputs": [
        {
          "output_type": "stream",
          "name": "stdout",
          "text": [
            "Enter kilo of mass: 100\n",
            "8.987551787368176e+18 joules of energy!\n"
          ]
        }
      ]
    },
    {
      "cell_type": "markdown",
      "source": [
        "### 03_feet_to_inches"
      ],
      "metadata": {
        "id": "rlqlgLTQs7vN"
      }
    },
    {
      "cell_type": "code",
      "source": [
        "per_foot_inches = 12\n",
        "def main():\n",
        "  feet = float(input(\"Enter feet: \"))\n",
        "  inches = feet * per_foot_inches\n",
        "  print(f\"{feet} feet is {inches} inches\")\n",
        "\n",
        "if __name__ == \"__main__\":\n",
        "  main()"
      ],
      "metadata": {
        "colab": {
          "base_uri": "https://localhost:8080/"
        },
        "id": "ChOMLkD6s-n1",
        "outputId": "e5a29c13-cee0-48e3-a99a-47e378cfc145"
      },
      "execution_count": 3,
      "outputs": [
        {
          "output_type": "stream",
          "name": "stdout",
          "text": [
            "Enter feet: 5\n",
            "5.0 feet is 60.0 inches\n"
          ]
        }
      ]
    },
    {
      "cell_type": "markdown",
      "source": [
        "### 04_pythagorean_theorem"
      ],
      "metadata": {
        "id": "-FrG4oYLtIuV"
      }
    },
    {
      "cell_type": "code",
      "source": [
        "import math\n",
        "def main():\n",
        "    AB = float(input(\"Enter the length of AB: \"))\n",
        "    AC = float(input(\"Enter the length of AC:\"))\n",
        "    # hypotenuse = (AB ** 2 + AC ** 2)\n",
        "    hypotenuse = math.sqrt(AB**2 + AC**2)\n",
        "\n",
        "    print(f\"The length of BC (the hypotenuse) is {hypotenuse}\")\n",
        "\n",
        "\n",
        "if __name__ == \"__main__\":\n",
        "    main()"
      ],
      "metadata": {
        "colab": {
          "base_uri": "https://localhost:8080/"
        },
        "id": "XoEknBxctLtF",
        "outputId": "aacbaf57-473d-4cb6-f0e2-2428dcd15c84"
      },
      "execution_count": 4,
      "outputs": [
        {
          "output_type": "stream",
          "name": "stdout",
          "text": [
            "Enter the length of AB: 3\n",
            "Enter the length of AC:4\n",
            "The length of BC (the hypotenuse) is 5.0\n"
          ]
        }
      ]
    },
    {
      "cell_type": "markdown",
      "source": [
        "### 05_remainder_division"
      ],
      "metadata": {
        "id": "KourroJKtT1N"
      }
    },
    {
      "cell_type": "code",
      "source": [
        "def main():\n",
        "  first_number = int (input(\"Enter an integer to be divided: \"))\n",
        "  second_number = int(input(\"Enter an integer to divide by: \"))\n",
        "  result = first_number // second_number\n",
        "  remainder = first_number % second_number\n",
        "  print(f\"The result of this division is {result} with a remainder of {remainder}\")\n",
        "\n",
        "if __name__ == \"__main__\":\n",
        "  main()"
      ],
      "metadata": {
        "colab": {
          "base_uri": "https://localhost:8080/"
        },
        "id": "c9DdJhRztWdt",
        "outputId": "7cc8b55b-d3c1-4942-faa2-e511bd977dc5"
      },
      "execution_count": 5,
      "outputs": [
        {
          "output_type": "stream",
          "name": "stdout",
          "text": [
            "Enter an integer to be divided: 5\n",
            "Enter an integer to divide by: 3\n",
            "The result of this division is 1 with a remainder of 2\n"
          ]
        }
      ]
    },
    {
      "cell_type": "markdown",
      "source": [
        "### 06_rolldice"
      ],
      "metadata": {
        "id": "WZNgkNjjtd-F"
      }
    },
    {
      "cell_type": "code",
      "source": [
        "import random\n",
        "num_side = 6\n",
        "def main():\n",
        "    die_1 = random.randint(1, num_side) #generate a random number b/w 1 to 6 in die_1\n",
        "    die_2 = random.randint(1, num_side) #generate a random number b/w 1 to 6 in die_2\n",
        "    sum_of_two_dice = die_1 + die_2\n",
        "    print(f\"Die 1 : {die_1}\")\n",
        "    print(f\"Die 2 : {die_2}\")\n",
        "    print(f\"Total : {sum_of_two_dice}\")\n",
        "\n",
        "if __name__ == \"__main__\":\n",
        "    main()"
      ],
      "metadata": {
        "colab": {
          "base_uri": "https://localhost:8080/"
        },
        "id": "EKoinVl1tgrF",
        "outputId": "44ff6f52-8810-4c53-bb94-57ea07459982"
      },
      "execution_count": 6,
      "outputs": [
        {
          "output_type": "stream",
          "name": "stdout",
          "text": [
            "Die 1 : 5\n",
            "Die 2 : 1\n",
            "Total : 6\n"
          ]
        }
      ]
    },
    {
      "cell_type": "markdown",
      "source": [
        "### 06_seconds_in_year"
      ],
      "metadata": {
        "id": "qK-bZwpStp4k"
      }
    },
    {
      "cell_type": "code",
      "source": [
        "def main():\n",
        "  DAYS_IN_YEAR = 365\n",
        "  HOURS_IN_DAY = 24\n",
        "  MINUTES_IN_HOUR = 60\n",
        "  SEC_PER_MINUTE = 60\n",
        "\n",
        "  second_in_year = DAYS_IN_YEAR * HOURS_IN_DAY * MINUTES_IN_HOUR * SEC_PER_MINUTE\n",
        "  print(f\"There are {second_in_year} seconds in a year!\")\n",
        "\n",
        "if __name__ == \"__main__\":\n",
        "  main()"
      ],
      "metadata": {
        "colab": {
          "base_uri": "https://localhost:8080/"
        },
        "id": "oniS-iNJttct",
        "outputId": "383de5c9-ccea-431e-b7b1-a78ebec64e41"
      },
      "execution_count": 7,
      "outputs": [
        {
          "output_type": "stream",
          "name": "stdout",
          "text": [
            "There are 31536000 seconds in a year!\n"
          ]
        }
      ]
    },
    {
      "cell_type": "markdown",
      "source": [
        "### 07_tiny_mad_lib"
      ],
      "metadata": {
        "id": "kptzHJ-qt99c"
      }
    },
    {
      "cell_type": "code",
      "source": [
        "def main ():\n",
        "  adjective = input(\"Please type an adjective and press enter: \")\n",
        "  noun = input(\"Please type a noun and press enter: \")\n",
        "  verb = input(\"Please type a verb and press enter: \")\n",
        "\n",
        "  print(f\"Yesterday, I saw a {adjective} dragon flying over the {noun} while it was {verb}!\")\n",
        "\n",
        "if __name__ == \"__main__\":\n",
        "  main()"
      ],
      "metadata": {
        "colab": {
          "base_uri": "https://localhost:8080/"
        },
        "id": "30d-KAJyt_Y0",
        "outputId": "d1236a70-782f-4e9d-baa1-2819fcf9fd03"
      },
      "execution_count": 8,
      "outputs": [
        {
          "output_type": "stream",
          "name": "stdout",
          "text": [
            "Please type an adjective and press enter: big\n",
            "Please type a noun and press enter: sea\n",
            "Please type a verb and press enter: searching\n",
            "Yesterday, I saw a big dragon flying over the sea while it was searching!\n"
          ]
        }
      ]
    }
  ]
}