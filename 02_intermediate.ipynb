{
  "nbformat": 4,
  "nbformat_minor": 0,
  "metadata": {
    "colab": {
      "provenance": [],
      "authorship_tag": "ABX9TyPTfgNd7Q5t0osq7iUDzegc",
      "include_colab_link": true
    },
    "kernelspec": {
      "name": "python3",
      "display_name": "Python 3"
    },
    "language_info": {
      "name": "python"
    }
  },
  "cells": [
    {
      "cell_type": "markdown",
      "metadata": {
        "id": "view-in-github",
        "colab_type": "text"
      },
      "source": [
        "<a href=\"https://colab.research.google.com/github/sadafshahab12/giaic_assignment_4_google_colab/blob/main/02_intermediate.ipynb\" target=\"_parent\"><img src=\"https://colab.research.google.com/assets/colab-badge.svg\" alt=\"Open In Colab\"/></a>"
      ]
    },
    {
      "cell_type": "markdown",
      "source": [
        "#**02_intermediate**"
      ],
      "metadata": {
        "id": "t086LWSq97Xa"
      }
    },
    {
      "cell_type": "markdown",
      "source": [
        "### Control Flow for Console\n"
      ],
      "metadata": {
        "id": "lkXg20wt-ARw"
      }
    },
    {
      "cell_type": "markdown",
      "source": [
        "##### High Low Game"
      ],
      "metadata": {
        "id": "g7px0OnX-Lhx"
      }
    },
    {
      "cell_type": "code",
      "execution_count": 1,
      "metadata": {
        "colab": {
          "base_uri": "https://localhost:8080/"
        },
        "id": "geAZBPXq858H",
        "outputId": "55889d7d-012a-4f43-8d4f-9fddcaf62caf"
      },
      "outputs": [
        {
          "output_type": "stream",
          "name": "stdout",
          "text": [
            "Welcome to high low game!\n",
            "-----------------------------------------------\n",
            "Round: 1\n",
            "-----------------------------------------------\n",
            "Your number is 90\n",
            "Do you think your number is higher or lower than the computer's? higher\n",
            "Aww that's incorrect. The computer's number was 92\n",
            "Your current store is 0\n",
            "\n",
            "Round: 2\n",
            "-----------------------------------------------\n",
            "Your number is 26\n",
            "Do you think your number is higher or lower than the computer's? lower\n",
            "You were right! The computer's number was 38\n",
            "Your current store is 1\n",
            "\n",
            "Round: 3\n",
            "-----------------------------------------------\n",
            "Your number is 19\n",
            "Do you think your number is higher or lower than the computer's? lower\n",
            "You were right! The computer's number was 34\n",
            "Your current store is 2\n",
            "\n",
            "Round: 4\n",
            "-----------------------------------------------\n",
            "Your number is 27\n",
            "Do you think your number is higher or lower than the computer's? lower\n",
            "You were right! The computer's number was 43\n",
            "Your current store is 3\n",
            "\n",
            "Round: 5\n",
            "-----------------------------------------------\n",
            "Your number is 51\n",
            "Do you think your number is higher or lower than the computer's? higher\n",
            "You were right! The computer's number was 43\n",
            "Your current store is 4\n",
            "\n",
            "You final score is 4\n",
            "Good job , You played really well!\n"
          ]
        }
      ],
      "source": [
        "import random\n",
        "\n",
        "ROUND = 5\n",
        "def main():\n",
        "    print(\"Welcome to high low game!\")\n",
        "    print(\"-----------------------------------------------\")\n",
        "    your_score = 0\n",
        "    for i in range(ROUND):\n",
        "        print(f\"Round: {i + 1}\")\n",
        "        print(\"-----------------------------------------------\")\n",
        "        computer_num = random.randint(1, 100)\n",
        "        your_number = random.randint(1, 100)\n",
        "        print(f\"Your number is {your_number}\")\n",
        "        user_choice = input(\n",
        "            \"Do you think your number is higher or lower than the computer's? \"\n",
        "        )\n",
        "        while user_choice != \"higher\" and user_choice != \"lower\":\n",
        "            user_choice = input(\"Please Enter either higher or lower! \")\n",
        "        higher_and_correct = user_choice == \"higher\" and your_number > computer_num\n",
        "        lower_and_correct = user_choice == \"lower\" and your_number < computer_num\n",
        "        if higher_and_correct or lower_and_correct:\n",
        "            print(f\"You were right! The computer's number was {computer_num}\")\n",
        "            your_score += 1\n",
        "        else:\n",
        "            print(f\"Aww that's incorrect. The computer's number was {computer_num}\")\n",
        "        print(f\"Your current store is {your_score}\")\n",
        "        print()\n",
        "\n",
        "    print(f\"You final score is {your_score}\")\n",
        "    if your_score == ROUND:\n",
        "        print(\"Wow! You played perfectly!\")\n",
        "    elif your_score > ROUND // 2:\n",
        "        print(\"Good job , You played really well!\")\n",
        "    else:\n",
        "        print(\"Better luck next time!\")\n",
        "\n",
        "\n",
        "if __name__ == \"__main__\":\n",
        "    main()\n"
      ]
    },
    {
      "cell_type": "markdown",
      "source": [
        "### Intro to Python"
      ],
      "metadata": {
        "id": "VScZUwdcHonv"
      }
    },
    {
      "cell_type": "markdown",
      "source": [
        "##### Planetary Weight Calculator"
      ],
      "metadata": {
        "id": "-GOmkTeCIUtG"
      }
    },
    {
      "cell_type": "code",
      "source": [
        "MERCURY_GRAVITY = 0.376\n",
        "VENUS_GRAVITY = 0.889\n",
        "MARS_GRAVITY = 0.378\n",
        "JUPITER_GRAVITY = 2.36\n",
        "SATURN_GRAVITY = 1.081\n",
        "URANUS_GRAVITY = 0.815\n",
        "NEPTUNE_GRAVITY = 1.14\n",
        "EARTH_GRAVITY = 1.0\n",
        "\n",
        "\n",
        "def main():\n",
        "    # Prompt the user for their weight on Earth\n",
        "    earth_weight = float(input(\"Enter a weight on earth: \"))\n",
        "    # Prompt the user for the name of a planet\n",
        "    planet = input(\"Enter a planet: \")\n",
        "\n",
        "    if planet == \"Mercury\":\n",
        "        gravity_constant = MERCURY_GRAVITY\n",
        "    elif planet == \"Venus\":\n",
        "        gravity_constant = VENUS_GRAVITY\n",
        "    elif planet == \"Mars\":\n",
        "        gravity_constant = MARS_GRAVITY\n",
        "    elif planet == \"Jupiter\":\n",
        "        gravity_constant = JUPITER_GRAVITY\n",
        "    elif planet == \"Saturn\":\n",
        "        gravity_constant = SATURN_GRAVITY\n",
        "    elif planet == \"Uranus\":\n",
        "        gravity_constant = URANUS_GRAVITY\n",
        "    else:\n",
        "        gravity_constant = NEPTUNE_GRAVITY\n",
        "    planetry_weight = earth_weight * gravity_constant\n",
        "    rounded_planetry_weight = round(planetry_weight, 2)\n",
        "    print(f\"The equivalent weight on {planet} is {rounded_planetry_weight} \")\n",
        "\n",
        "\n",
        "if __name__ == \"__main__\":\n",
        "    main()"
      ],
      "metadata": {
        "colab": {
          "base_uri": "https://localhost:8080/"
        },
        "id": "2JV2BF8dHuyW",
        "outputId": "db3fc2c4-7ff4-4113-9eae-c92a02c95a38"
      },
      "execution_count": 2,
      "outputs": [
        {
          "output_type": "stream",
          "name": "stdout",
          "text": [
            "Enter a weight on earth: 100\n",
            "Enter a planet: Mercury\n",
            "The equivalent weight on Mercury is 37.6 \n"
          ]
        }
      ]
    },
    {
      "cell_type": "markdown",
      "source": [
        "### Lists and Dicts\n"
      ],
      "metadata": {
        "id": "HbeMNEOxT7Mm"
      }
    },
    {
      "cell_type": "markdown",
      "source": [
        "##### Problem #1: List Practice"
      ],
      "metadata": {
        "id": "64F-0l2xT-bt"
      }
    },
    {
      "cell_type": "code",
      "source": [
        "def main ():\n",
        "  fruit_list = ['apple', 'banana', 'orange', 'grape', 'pineapple']\n",
        "  length_fruit_list = len(fruit_list)\n",
        "  print(length_fruit_list)\n",
        "  fruit_list.append(\"mango\")\n",
        "  print(fruit_list)\n",
        "\n",
        "if __name__ == \"__main__\":\n",
        "  main()"
      ],
      "metadata": {
        "colab": {
          "base_uri": "https://localhost:8080/"
        },
        "id": "hwGUwRjdT5h_",
        "outputId": "5e58292f-07e6-4de2-d580-d35df5874f44"
      },
      "execution_count": 3,
      "outputs": [
        {
          "output_type": "stream",
          "name": "stdout",
          "text": [
            "5\n",
            "['apple', 'banana', 'orange', 'grape', 'pineapple', 'mango']\n"
          ]
        }
      ]
    },
    {
      "cell_type": "markdown",
      "source": [
        "##### Problem #2: Index Game"
      ],
      "metadata": {
        "id": "dBjUSA4KUEq-"
      }
    },
    {
      "cell_type": "code",
      "source": [
        "def access_element(lst, index):\n",
        "    try:\n",
        "        return lst[index]\n",
        "    except IndexError:\n",
        "        return \"Index out of range\"\n",
        "\n",
        "def modify_element(lst, index, new_value):\n",
        "    try:\n",
        "        lst[index] = new_value\n",
        "        return lst\n",
        "    except IndexError:\n",
        "        return \"Index out of range\"\n",
        "\n",
        "\n",
        "# Slicing the List:\n",
        "def slice_list(lst, start, end):\n",
        "    try:\n",
        "        return lst[start:end]\n",
        "    except IndexError:\n",
        "        return \"Index out of range\"\n",
        "\n",
        "\n",
        "def index_game():\n",
        "    lst = [1, 2, 3, 4, 5]\n",
        "    print(f\"Current list : {lst}\")\n",
        "    print(\"Choose and operation: access , modify or slice: \")\n",
        "    operation = input(\"Enter an operation: \")\n",
        "\n",
        "    if operation.lower() == \"access\":\n",
        "        index = int(input(\"Enter index to access:\"))\n",
        "        print(access_element(lst, index))\n",
        "    elif operation.lower() == \"modify\":\n",
        "        index = int(input(\"Enter index to modify: \"))\n",
        "        new_value = int(input(\"Enter a new value: \"))\n",
        "        print(modify_element(lst, index, new_value))\n",
        "    elif operation.lower() == \"slice\":\n",
        "        start = int(input(\"Enter start index: \"))\n",
        "        end = int(input(\"Enter end index: \"))\n",
        "        print(slice_list(lst, start, end))\n",
        "    else:\n",
        "        print(\"Invalid operation\")\n",
        "\n",
        "\n",
        "def main():\n",
        "    index_game()\n",
        "\n",
        "\n",
        "if __name__ == \"__main__\":\n",
        "    main()"
      ],
      "metadata": {
        "colab": {
          "base_uri": "https://localhost:8080/"
        },
        "id": "brTju1Jc5Nob",
        "outputId": "1dec33d6-d5a4-4206-ff7f-ab65e0d23c8a"
      },
      "execution_count": 13,
      "outputs": [
        {
          "output_type": "stream",
          "name": "stdout",
          "text": [
            "Current list : [1, 2, 3, 4, 5]\n",
            "Choose and operation: access , modify or slice: \n",
            "Enter an operation: modify\n",
            "Enter index to modify: 4\n",
            "Enter a new value: 12\n",
            "[1, 2, 3, 4, 12]\n"
          ]
        }
      ]
    }
  ]
}