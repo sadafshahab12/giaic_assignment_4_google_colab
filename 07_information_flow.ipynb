{
  "nbformat": 4,
  "nbformat_minor": 0,
  "metadata": {
    "colab": {
      "provenance": [],
      "authorship_tag": "ABX9TyOrEWYW49HxSqCNrhp/eAls",
      "include_colab_link": true
    },
    "kernelspec": {
      "name": "python3",
      "display_name": "Python 3"
    },
    "language_info": {
      "name": "python"
    }
  },
  "cells": [
    {
      "cell_type": "markdown",
      "metadata": {
        "id": "view-in-github",
        "colab_type": "text"
      },
      "source": [
        "<a href=\"https://colab.research.google.com/github/sadafshahab12/giaic_assignment_4_google_colab/blob/main/07_information_flow.ipynb\" target=\"_parent\"><img src=\"https://colab.research.google.com/assets/colab-badge.svg\" alt=\"Open In Colab\"/></a>"
      ]
    },
    {
      "cell_type": "markdown",
      "source": [
        "### 00_choosing_returns"
      ],
      "metadata": {
        "id": "ODOWxMuazJj8"
      }
    },
    {
      "cell_type": "code",
      "execution_count": 2,
      "metadata": {
        "colab": {
          "base_uri": "https://localhost:8080/"
        },
        "id": "FiQ6wd-sXDho",
        "outputId": "66e438bd-f160-4883-c29d-03222b7e8aba"
      },
      "outputs": [
        {
          "output_type": "stream",
          "name": "stdout",
          "text": [
            "How old are you? 19\n",
            "True\n"
          ]
        }
      ],
      "source": [
        "ADULT_AGE = 18\n",
        "def is_adult(age):\n",
        "    if age >= ADULT_AGE:\n",
        "        return True\n",
        "    else:\n",
        "        return False\n",
        "\n",
        "def main():\n",
        "    age = int(input(\"How old are you? \"))\n",
        "    print(is_adult(age))\n",
        "\n",
        "if __name__ == \"__main__\":\n",
        "    main()\n"
      ]
    },
    {
      "cell_type": "markdown",
      "source": [
        "### 01_greetings"
      ],
      "metadata": {
        "id": "p61qIsyyzsOL"
      }
    },
    {
      "cell_type": "code",
      "source": [
        "def greet(name):\n",
        "  return f\"Greetings {name}!\"\n",
        "\n",
        "def main():\n",
        "  user_name = input(\"What is your name? \")\n",
        "  print(greet(user_name))\n",
        "\n",
        "if __name__ == \"__main__\":\n",
        "  main()"
      ],
      "metadata": {
        "colab": {
          "base_uri": "https://localhost:8080/"
        },
        "id": "G4jFHGxczwWS",
        "outputId": "bd13f18b-6e71-43cb-95b9-1f6abb95e291"
      },
      "execution_count": 3,
      "outputs": [
        {
          "output_type": "stream",
          "name": "stdout",
          "text": [
            "What is your name? Sophia\n",
            "Greetings Sophia!\n"
          ]
        }
      ]
    },
    {
      "cell_type": "markdown",
      "source": [
        "### 02_in_range"
      ],
      "metadata": {
        "id": "Y3-zUpvoQ1gY"
      }
    },
    {
      "cell_type": "code",
      "source": [
        "def in_range(n, low, high):\n",
        "    if n >= low and n <= high:\n",
        "        return True\n",
        "    return False\n",
        "\n",
        "\n",
        "def main():\n",
        "    n = int(input(\"Enter a number: \"))\n",
        "    low = int(input(\"Enter the lower bound: \"))\n",
        "    high = int(input(\"Enter the upper bound: \"))\n",
        "    print(in_range(n, low, high))\n",
        "\n",
        "\n",
        "if __name__ == \"__main__\":\n",
        "    main()\n"
      ],
      "metadata": {
        "colab": {
          "base_uri": "https://localhost:8080/"
        },
        "id": "Y9TphSJiQ43v",
        "outputId": "76e9d640-8ebe-446f-d919-38020632414e"
      },
      "execution_count": 4,
      "outputs": [
        {
          "output_type": "stream",
          "name": "stdout",
          "text": [
            "Enter a number: 4\n",
            "Enter the lower bound: 3\n",
            "Enter the upper bound: 10\n",
            "True\n"
          ]
        }
      ]
    },
    {
      "cell_type": "markdown",
      "source": [
        "### 03_in_stock"
      ],
      "metadata": {
        "id": "UNBvYiQeSk6-"
      }
    },
    {
      "cell_type": "code",
      "source": [
        "def num_in_stock(fruit):\n",
        "    if fruit == \"apple\":\n",
        "        return 10\n",
        "    elif fruit == \"orange\":\n",
        "        return 20\n",
        "    elif fruit == \"banana\":\n",
        "        return 30\n",
        "    else:\n",
        "        return 0\n",
        "\n",
        "\n",
        "def main():\n",
        "    fruit = input(\"Enter a fruit: \")\n",
        "    fruit_stock = num_in_stock(fruit)\n",
        "    if fruit_stock > 0:\n",
        "        print(f\"This fruit is in stock! Here is how many: {fruit_stock}\")\n",
        "    else:\n",
        "        print(\"This fruit is not in stock.\")\n",
        "\n",
        "\n",
        "if __name__ == \"__main__\":\n",
        "    main()\n"
      ],
      "metadata": {
        "colab": {
          "base_uri": "https://localhost:8080/"
        },
        "id": "X8alNOZXT6sk",
        "outputId": "1fd4f78c-8980-4536-b425-602f52c28d90"
      },
      "execution_count": 5,
      "outputs": [
        {
          "output_type": "stream",
          "name": "stdout",
          "text": [
            "Enter a fruit: apple\n",
            "This fruit is in stock! Here is how many: 10\n"
          ]
        }
      ]
    },
    {
      "cell_type": "markdown",
      "source": [
        "### 04_multiple_returns"
      ],
      "metadata": {
        "id": "i58dN0GbUBVs"
      }
    },
    {
      "cell_type": "code",
      "source": [
        "def get_user_info():\n",
        "    first_name = input(\"What is your first name?: \")\n",
        "    last_name = input(\"What is your last name?: \")\n",
        "    email = input(\"What is your email address?: \")\n",
        "    return first_name, last_name, email\n",
        "\n",
        "\n",
        "# Now we can call this function and print out the returned data like so:\n",
        "\n",
        "\n",
        "def main():\n",
        "    user_data = get_user_info()\n",
        "    print(\"Received the following user data: \", user_data)\n",
        "\n",
        "\n",
        "if __name__ == \"__main__\":\n",
        "    main()"
      ],
      "metadata": {
        "colab": {
          "base_uri": "https://localhost:8080/"
        },
        "id": "xtzsJ3DfUCb0",
        "outputId": "af6ebc13-18f0-49c5-c926-311bed89fc23"
      },
      "execution_count": 6,
      "outputs": [
        {
          "output_type": "stream",
          "name": "stdout",
          "text": [
            "What is your first name?: sadaf\n",
            "What is your last name?: shahab\n",
            "What is your email address?: sadafshahabsr12@gmail.com\n",
            "Received the following user data:  ('sadaf', 'shahab', 'sadafshahabsr12@gmail.com')\n"
          ]
        }
      ]
    },
    {
      "cell_type": "markdown",
      "source": [
        "### 05_subtract_7"
      ],
      "metadata": {
        "id": "6AGDvZdcVPl7"
      }
    },
    {
      "cell_type": "code",
      "source": [
        "def subtract_seven(num):\n",
        "    return num - 7\n",
        "\n",
        "def main():\n",
        "    num = 7\n",
        "    result = subtract_seven(num)\n",
        "    print(result)\n",
        "\n",
        "if __name__ == \"__main__\":\n",
        "    main()"
      ],
      "metadata": {
        "colab": {
          "base_uri": "https://localhost:8080/"
        },
        "id": "Togg5drmVS6S",
        "outputId": "d9eb8de3-cf90-4504-e02a-e8ffe517890f"
      },
      "execution_count": 7,
      "outputs": [
        {
          "output_type": "stream",
          "name": "stdout",
          "text": [
            "0\n"
          ]
        }
      ]
    }
  ]
}