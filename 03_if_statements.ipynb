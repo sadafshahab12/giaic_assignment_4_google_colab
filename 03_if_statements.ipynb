{
  "nbformat": 4,
  "nbformat_minor": 0,
  "metadata": {
    "colab": {
      "provenance": [],
      "authorship_tag": "ABX9TyNtQ0hicYQZod9I68YfrmU3",
      "include_colab_link": true
    },
    "kernelspec": {
      "name": "python3",
      "display_name": "Python 3"
    },
    "language_info": {
      "name": "python"
    }
  },
  "cells": [
    {
      "cell_type": "markdown",
      "metadata": {
        "id": "view-in-github",
        "colab_type": "text"
      },
      "source": [
        "<a href=\"https://colab.research.google.com/github/sadafshahab12/giaic_assignment_4_google_colab/blob/main/03_if_statements.ipynb\" target=\"_parent\"><img src=\"https://colab.research.google.com/assets/colab-badge.svg\" alt=\"Open In Colab\"/></a>"
      ]
    },
    {
      "cell_type": "markdown",
      "source": [
        "### 01_print_events"
      ],
      "metadata": {
        "id": "mAJ0UwAsBdSM"
      }
    },
    {
      "cell_type": "code",
      "execution_count": 6,
      "metadata": {
        "colab": {
          "base_uri": "https://localhost:8080/"
        },
        "id": "pPRJFdcdBQ8H",
        "outputId": "8680a4fd-29ec-4f4e-fe8e-bf4a794c256f"
      },
      "outputs": [
        {
          "output_type": "stream",
          "name": "stdout",
          "text": [
            "0 2 4 6 8 10 12 14 16 18 20 22 24 26 28 30 32 34 36 38 "
          ]
        }
      ],
      "source": [
        "def main():\n",
        "    for i in range(20):\n",
        "        print(i * 2 , end=\" \")\n",
        "\n",
        "\n",
        "if __name__ == \"__main__\":\n",
        "    main()"
      ]
    },
    {
      "cell_type": "markdown",
      "source": [
        "### 02_international_voting_age"
      ],
      "metadata": {
        "id": "naWxnd9KCHfi"
      }
    },
    {
      "cell_type": "code",
      "source": [
        "PETURKSBOUIP_AGE = 16\n",
        "STANLAU_AGE = 25\n",
        "MAYENGUA_AGE = 48\n",
        "\n",
        "def main ():\n",
        "  \"\"\"User prompt to take age and check voting eligibility in three countries.\"\"\"\n",
        "  user_age = int(input(\"How old are you?\"))\n",
        "  if user_age >= PETURKSBOUIP_AGE:\n",
        "    print(f\"You can vote in Peturksbouip where the voting age is {PETURKSBOUIP_AGE}.\")\n",
        "  else:\n",
        "    print(f\"You cannot vote in peturksbouip where the voting age is {PETURKSBOUIP_AGE}.\")\n",
        "\n",
        "  #Check if the user can vote in  Stanlau\n",
        "  if user_age >= STANLAU_AGE:\n",
        "    print(f\"You can vote in Stanlau where the voting age is {STANLAU_AGE}\")\n",
        "  else:\n",
        "    print(f\"You cannot vote in Stanlau where the voting age is {STANLAU_AGE}\")\n",
        "\n",
        "  # Check if the user can vote in Mayengua\n",
        "\n",
        "  if user_age >= MAYENGUA_AGE:\n",
        "    print(f\"You can vote in Mayengua where the voting age is {MAYENGUA_AGE}\")\n",
        "  else:\n",
        "    print(f\"You cannot vote in Mayengua where the voting age is {MAYENGUA_AGE}\")\n",
        "\n",
        "if __name__ == \"__main__\":\n",
        "  main()\n"
      ],
      "metadata": {
        "colab": {
          "base_uri": "https://localhost:8080/"
        },
        "id": "p967cpctCLSS",
        "outputId": "31e7b613-c043-4f7d-f548-6d8085280fd9"
      },
      "execution_count": null,
      "outputs": [
        {
          "output_type": "stream",
          "name": "stdout",
          "text": [
            "How old are you?16\n",
            "You can vote in Peturksbouip where the voting age is 16.\n",
            "You cannot vote in Stanlau where the voting age is 25\n",
            "You cannot vote in Mayengua where the voting age is 48\n"
          ]
        }
      ]
    },
    {
      "cell_type": "markdown",
      "source": [
        "### 03_leap_year"
      ],
      "metadata": {
        "id": "KFxLHA6eEs44"
      }
    },
    {
      "cell_type": "code",
      "source": [
        "def main():\n",
        "    year = int(input(\"Enter a year to check leap year or not: \"))\n",
        "    if year % 4 == 0:\n",
        "        if year % 100 == 0:\n",
        "            if year % 400 == 0:\n",
        "                print(\"That's a leap year!\")\n",
        "            else:\n",
        "                print(\"That's not a leap year.\")\n",
        "        else:\n",
        "            print(\"That's a leap year!\")\n",
        "    else:\n",
        "        print(\"That's not a leap year.\")\n",
        "\n",
        "if __name__ == \"__main__\":\n",
        "    main()\n",
        "\n"
      ],
      "metadata": {
        "colab": {
          "base_uri": "https://localhost:8080/"
        },
        "id": "25Uz6WKcEvsg",
        "outputId": "74d1904e-e522-402b-c1ff-c615aa6f7745"
      },
      "execution_count": null,
      "outputs": [
        {
          "output_type": "stream",
          "name": "stdout",
          "text": [
            "Enter a year to check leap year or not: 1997\n",
            "That's not a leap year.\n"
          ]
        }
      ]
    },
    {
      "cell_type": "markdown",
      "source": [
        "### 04_tall_enough_to_ride"
      ],
      "metadata": {
        "id": "Wg9gtrqoGqRm"
      }
    },
    {
      "cell_type": "code",
      "source": [
        "MIN_HEIGHT = 50\n",
        "\n",
        "\n",
        "def main():\n",
        "    # Ask the user how tall they are\n",
        "    height = int(input(\"How tall are you?\"))\n",
        "    # check if the user entered a valid number\n",
        "    if height >= MIN_HEIGHT:\n",
        "        print(\"You're tall enough to ride!\")\n",
        "    else:\n",
        "        print(\"You're not tall enough to ride, but maybe next year!\")\n",
        "\n",
        "\n",
        "if __name__ == \"__main__\":\n",
        "    main()"
      ],
      "metadata": {
        "id": "xjzfY4iZGrs-",
        "colab": {
          "base_uri": "https://localhost:8080/"
        },
        "outputId": "79b8f424-c7a5-48fa-8ad8-6ff7211bda1c"
      },
      "execution_count": 2,
      "outputs": [
        {
          "output_type": "stream",
          "name": "stdout",
          "text": [
            "How tall are you?60\n",
            "You're tall enough to ride!\n"
          ]
        }
      ]
    },
    {
      "cell_type": "markdown",
      "source": [
        "### 05_random_numbers"
      ],
      "metadata": {
        "id": "0grBPPHJQzwB"
      }
    },
    {
      "cell_type": "code",
      "source": [
        "import random\n",
        "NUM_TO_GENERATE = 10\n",
        "MIN_VALUE = 1\n",
        "MAX_VALUE = 100\n",
        "def main():\n",
        "    \"\"\"Print 10 random numbers in the range 1 to 100\"\"\"\n",
        "    for i in range(NUM_TO_GENERATE):\n",
        "        number = random.randint(MIN_VALUE, MAX_VALUE)\n",
        "        print(number, end=\" \")\n",
        "\n",
        "\n",
        "if __name__ == \"__main__\":\n",
        "    main()\n"
      ],
      "metadata": {
        "colab": {
          "base_uri": "https://localhost:8080/"
        },
        "id": "JbyZ2qMGRAk1",
        "outputId": "deea961b-40ff-4c2a-c733-3b9bd85e976b"
      },
      "execution_count": 5,
      "outputs": [
        {
          "output_type": "stream",
          "name": "stdout",
          "text": [
            "3 27 16 41 63 70 23 79 51 36 "
          ]
        }
      ]
    }
  ]
}