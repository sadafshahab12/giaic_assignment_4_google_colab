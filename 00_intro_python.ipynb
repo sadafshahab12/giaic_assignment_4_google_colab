{
  "nbformat": 4,
  "nbformat_minor": 0,
  "metadata": {
    "colab": {
      "provenance": [],
      "authorship_tag": "ABX9TyOEweTpIsz1nNsw1rgNI38Q",
      "include_colab_link": true
    },
    "kernelspec": {
      "name": "python3",
      "display_name": "Python 3"
    },
    "language_info": {
      "name": "python"
    }
  },
  "cells": [
    {
      "cell_type": "markdown",
      "metadata": {
        "id": "view-in-github",
        "colab_type": "text"
      },
      "source": [
        "<a href=\"https://colab.research.google.com/github/sadafshahab12/giaic_assignment_4_google_colab/blob/main/00_intro_python.ipynb\" target=\"_parent\"><img src=\"https://colab.research.google.com/assets/colab-badge.svg\" alt=\"Open In Colab\"/></a>"
      ]
    },
    {
      "cell_type": "markdown",
      "source": [
        "### 01_add_two_numbers"
      ],
      "metadata": {
        "id": "APPJKp2bo0-l"
      }
    },
    {
      "cell_type": "code",
      "execution_count": 1,
      "metadata": {
        "colab": {
          "base_uri": "https://localhost:8080/"
        },
        "id": "JchK1nr4na70",
        "outputId": "d062c352-fa17-4674-8fef-995ba765ec60"
      },
      "outputs": [
        {
          "output_type": "stream",
          "name": "stdout",
          "text": [
            "Enter the first number: 5\n",
            "Enter the second number: 5\n",
            "Sum of two number is : 10\n"
          ]
        }
      ],
      "source": [
        "def main():\n",
        "    num1 = input(\"Enter the first number: \")\n",
        "    num1 = int(num1)\n",
        "    num2 = input(\"Enter the second number: \")\n",
        "    num2 = int(num2)\n",
        "    total = num1 + num2\n",
        "    print(f\"Sum of two number is : {total}\")\n",
        "\n",
        "\n",
        "if __name__ == \"__main__\":\n",
        "    main()\n"
      ]
    },
    {
      "cell_type": "markdown",
      "source": [
        "### 02_agreement_bot"
      ],
      "metadata": {
        "id": "FtvX-8mapWVx"
      }
    },
    {
      "cell_type": "code",
      "source": [
        "def main():\n",
        "    user_input = input(\"What is your favourite animal?\")\n",
        "    print(f\"\\nMy favourite animal is also \\033[1m\\033[3m{user_input}!\\033[0m\")\n",
        "\n",
        "if __name__ == \"__main__\":\n",
        "    main()"
      ],
      "metadata": {
        "colab": {
          "base_uri": "https://localhost:8080/"
        },
        "id": "6cr2P-6UpWDh",
        "outputId": "ace4a205-b7e0-475c-a2a7-3054ae7b05a3"
      },
      "execution_count": 2,
      "outputs": [
        {
          "output_type": "stream",
          "name": "stdout",
          "text": [
            "What is your favourite animal?bunny\n",
            "\n",
            "My favourite animal is also \u001b[1m\u001b[3mbunny!\u001b[0m\n"
          ]
        }
      ]
    },
    {
      "cell_type": "markdown",
      "source": [
        "### 03_fahrenheit_to_celsius"
      ],
      "metadata": {
        "id": "_t6rzTkNpnSx"
      }
    },
    {
      "cell_type": "code",
      "source": [
        "def main():\n",
        "    degrees_fahrenheit = input(\"Enter temperature in Fahrenheit: \")\n",
        "    degrees_fahrenheit = float(degrees_fahrenheit)\n",
        "    degrees_celsius = (degrees_fahrenheit - 32) * 5.0 / 9.0\n",
        "    print(\n",
        "        f\"Temperature: \\033[1m\\033[3m{degrees_fahrenheit}\\033[0m =  {degrees_celsius} C\"\n",
        "    )\n",
        "\n",
        "if __name__ == \"__main__\":\n",
        "    main()\n"
      ],
      "metadata": {
        "colab": {
          "base_uri": "https://localhost:8080/"
        },
        "id": "S4ICBc_BpqG5",
        "outputId": "6dc4b746-22c1-4fa6-aae0-82c3ad031cb0"
      },
      "execution_count": 3,
      "outputs": [
        {
          "output_type": "stream",
          "name": "stdout",
          "text": [
            "Enter temperature in Fahrenheit: 76\n",
            "Temperature: \u001b[1m\u001b[3m76.0\u001b[0m =  24.444444444444443 C\n"
          ]
        }
      ]
    },
    {
      "cell_type": "markdown",
      "source": [
        "### 04_how_old_are_they"
      ],
      "metadata": {
        "id": "3Cnnmb1spz7g"
      }
    },
    {
      "cell_type": "code",
      "source": [
        "def main():\n",
        "    anton = 21\n",
        "    beth = anton + 6\n",
        "    chen = beth + 20\n",
        "    drew = anton + chen\n",
        "    ethan = chen\n",
        "\n",
        "    print(f\"Anton is {anton}\")\n",
        "    print(f\"Beth is {beth}\")\n",
        "    print(f\"Chen is {chen}\")\n",
        "    print(f\"Drew is {drew}\")\n",
        "    print(f\"Ethan is {ethan}\")\n",
        "\n",
        "\n",
        "if __name__ == \"__main__\":\n",
        "    main()"
      ],
      "metadata": {
        "colab": {
          "base_uri": "https://localhost:8080/"
        },
        "id": "7UuvF6OAp2Zh",
        "outputId": "f3bf2552-1a60-4f1b-9139-f6d419edf923"
      },
      "execution_count": 4,
      "outputs": [
        {
          "output_type": "stream",
          "name": "stdout",
          "text": [
            "Anton is 21\n",
            "Beth is 27\n",
            "Chen is 47\n",
            "Drew is 68\n",
            "Ethan is 47\n"
          ]
        }
      ]
    },
    {
      "cell_type": "markdown",
      "source": [
        "### 05_triangle_perimeter"
      ],
      "metadata": {
        "id": "8FtzZksup6hQ"
      }
    },
    {
      "cell_type": "code",
      "source": [
        "def main():\n",
        "    side1 = float(input(\"What is the length of side 1? \"))\n",
        "    side2 = float(input(\"What is the length of side 2? \"))\n",
        "    side3 = float(input(\"What is the length of side 3? \"))\n",
        "    print(f\"The perimeter of the triangle is {side1 + side2 + side3}\")\n",
        "\n",
        "\n",
        "if __name__ == \"__main__\":\n",
        "    main()"
      ],
      "metadata": {
        "colab": {
          "base_uri": "https://localhost:8080/"
        },
        "id": "Pt0K0U4Xp-VI",
        "outputId": "cd9571f1-6c01-4505-d259-f95241d28232"
      },
      "execution_count": 5,
      "outputs": [
        {
          "output_type": "stream",
          "name": "stdout",
          "text": [
            "What is the length of side 1? 3\n",
            "What is the length of side 2? 4\n",
            "What is the length of side 3? 5.5\n",
            "The perimeter of the triangle is 12.5\n"
          ]
        }
      ]
    },
    {
      "cell_type": "markdown",
      "source": [
        "### 06_square_number"
      ],
      "metadata": {
        "id": "uSUa1rSQqIvI"
      }
    },
    {
      "cell_type": "code",
      "source": [
        "def main():\n",
        "  number = float(input(\"Type a number to see its square: \"))\n",
        "  print(f\"\\033[3m\\033[1m{number}\\033[0m is {number **2}\\033[0m\")\n",
        "\n",
        "if __name__ == \"__main__\":\n",
        "  main()"
      ],
      "metadata": {
        "colab": {
          "base_uri": "https://localhost:8080/"
        },
        "id": "x-WftC-SqLth",
        "outputId": "74f1dd02-90c0-491c-c066-ba0409a0cd8d"
      },
      "execution_count": 6,
      "outputs": [
        {
          "output_type": "stream",
          "name": "stdout",
          "text": [
            "Type a number to see its square: 4\n",
            "\u001b[3m\u001b[1m4.0\u001b[0m is 16.0\u001b[0m\n"
          ]
        }
      ]
    }
  ]
}