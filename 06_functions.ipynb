{
  "nbformat": 4,
  "nbformat_minor": 0,
  "metadata": {
    "colab": {
      "provenance": [],
      "authorship_tag": "ABX9TyN62khSHRWYu5kkoA+5uwCS",
      "include_colab_link": true
    },
    "kernelspec": {
      "name": "python3",
      "display_name": "Python 3"
    },
    "language_info": {
      "name": "python"
    }
  },
  "cells": [
    {
      "cell_type": "markdown",
      "metadata": {
        "id": "view-in-github",
        "colab_type": "text"
      },
      "source": [
        "<a href=\"https://colab.research.google.com/github/sadafshahab12/giaic_assignment_4_google_colab/blob/main/06_functions.ipynb\" target=\"_parent\"><img src=\"https://colab.research.google.com/assets/colab-badge.svg\" alt=\"Open In Colab\"/></a>"
      ]
    },
    {
      "cell_type": "markdown",
      "source": [
        "### 00_averages"
      ],
      "metadata": {
        "id": "kwa4X9GaIRio"
      }
    },
    {
      "cell_type": "code",
      "execution_count": null,
      "metadata": {
        "colab": {
          "base_uri": "https://localhost:8080/"
        },
        "id": "9p7lv8kVIM7S",
        "outputId": "876be40c-1711-4b77-d33c-b1ce019ed46e"
      },
      "outputs": [
        {
          "output_type": "stream",
          "name": "stdout",
          "text": [
            "avg_1:  5.0\n",
            "avg_2:  9.0\n",
            "Final Average:  7.0\n"
          ]
        }
      ],
      "source": [
        "def average(num1, num2):\n",
        "    sum = num1 + num2\n",
        "    return sum / 2\n",
        "\n",
        "\n",
        "def main():\n",
        "    avg_1 = average(0, 10)\n",
        "    avg_2 = average(8, 10)\n",
        "\n",
        "    final_average = average(avg_1, avg_2)\n",
        "    print(\"avg_1: \", avg_1)\n",
        "    print(\"avg_2: \", avg_2)\n",
        "    print(\"Final Average: \", final_average)\n",
        "\n",
        "\n",
        "if __name__ == \"__main__\":\n",
        "    main()\n"
      ]
    },
    {
      "cell_type": "markdown",
      "source": [
        "### 01_chaotic_counting"
      ],
      "metadata": {
        "id": "IJUU5KLsJlpX"
      }
    },
    {
      "cell_type": "code",
      "source": [
        "import random\n",
        "\n",
        "def chaotic_counting():\n",
        "    for i in range(10):\n",
        "        curr_num = i + 1\n",
        "        if done():\n",
        "            return\n",
        "        print(curr_num)\n",
        "\n",
        "\n",
        "def done():\n",
        "    \"\"\"Return true with a probability of DONE_LIKELIHOOD\"\"\"\n",
        "    DONE_LIKELIHOOD = 0.3 # probability for print number if true counting stop and false then counting will be print\n",
        "    # randomval = random.random()  generate value from 0 to 1\n",
        "    # print(randomval)\n",
        "    if random.random() < DONE_LIKELIHOOD:\n",
        "        return True\n",
        "    return False\n",
        "\n",
        "\n",
        "def main():\n",
        "    print(\n",
        "        \"I am going to count until 10 or until I feel like stopping, whichever comes first.\"\n",
        "    )\n",
        "    chaotic_counting()\n",
        "    print(\"I am done\")\n",
        "\n",
        "\n",
        "if __name__ == \"__main__\":\n",
        "    main()\n"
      ],
      "metadata": {
        "id": "--I500spJm2G",
        "colab": {
          "base_uri": "https://localhost:8080/"
        },
        "outputId": "55e1e748-297d-4e14-bf3c-0d26bfee5624"
      },
      "execution_count": 1,
      "outputs": [
        {
          "output_type": "stream",
          "name": "stdout",
          "text": [
            "I am going to count until 10 or until I feel like stopping, whichever comes first.\n",
            "1\n",
            "2\n",
            "3\n",
            "I am done\n"
          ]
        }
      ]
    },
    {
      "cell_type": "markdown",
      "source": [
        "### 02_count_even"
      ],
      "metadata": {
        "id": "TAN7TWFc_Jk9"
      }
    },
    {
      "cell_type": "code",
      "source": [
        "def get_list_integer():\n",
        "    \"\"\"Reads a list of integers from the user until they press enter and return the list\"\"\"\n",
        "    lst = []\n",
        "    user_input = input(\"Enter an integer or press enter to stop: \")\n",
        "    while user_input != \"\":\n",
        "        lst.append(int(user_input))\n",
        "        user_input = input(\"Enter an integer or press enter to stop: \")\n",
        "    return lst\n",
        "\n",
        "\n",
        "def count_even(lst):\n",
        "    \"\"\"Return number of even numbers in list\"\"\"\n",
        "    count = 0\n",
        "    for num in lst:\n",
        "        if num % 2 == 0:\n",
        "            count += 1\n",
        "    print(f\"Even number: {count}\")\n",
        "\n",
        "\n",
        "def main():\n",
        "    lst = get_list_integer()\n",
        "    count_even(lst)\n",
        "\n",
        "\n",
        "if __name__ == \"__main__\":\n",
        "    main()\n"
      ],
      "metadata": {
        "colab": {
          "base_uri": "https://localhost:8080/"
        },
        "id": "Qb80rvpl_LHm",
        "outputId": "3ec5013c-4930-4d39-ecda-7dd9aec163d6"
      },
      "execution_count": 2,
      "outputs": [
        {
          "output_type": "stream",
          "name": "stdout",
          "text": [
            "Enter an integer or press enter to stop: 2\n",
            "Enter an integer or press enter to stop: 3\n",
            "Enter an integer or press enter to stop: 4\n",
            "Enter an integer or press enter to stop: 5\n",
            "Enter an integer or press enter to stop: 6\n",
            "Enter an integer or press enter to stop: 7\n",
            "Enter an integer or press enter to stop: 8\n",
            "Enter an integer or press enter to stop: \n",
            "Even number: 4\n"
          ]
        }
      ]
    },
    {
      "cell_type": "markdown",
      "source": [
        "### 04_double"
      ],
      "metadata": {
        "id": "JIEqvzKDGxW-"
      }
    },
    {
      "cell_type": "code",
      "source": [
        "def double(num):\n",
        "    num = num * 2\n",
        "    return num\n",
        "\n",
        "def main():\n",
        "    num = int(input(\"Enter an integer: \"))\n",
        "    doubled_num = double(num)\n",
        "    print(f\"Double of {num} is: {doubled_num}\")\n",
        "\n",
        "\n",
        "if __name__ == \"__main__\":\n",
        "    main()\n"
      ],
      "metadata": {
        "colab": {
          "base_uri": "https://localhost:8080/"
        },
        "id": "Wj1QCQ4WGyyl",
        "outputId": "b26686a4-5c46-4065-a79d-337710d8ec33"
      },
      "execution_count": 5,
      "outputs": [
        {
          "output_type": "stream",
          "name": "stdout",
          "text": [
            "Enter an integer: 5\n",
            "Double of 5 is: 10\n"
          ]
        }
      ]
    },
    {
      "cell_type": "markdown",
      "source": [
        "### 05_get_name"
      ],
      "metadata": {
        "id": "T1wUrBhmIwCD"
      }
    },
    {
      "cell_type": "code",
      "source": [
        "def get_name():\n",
        "    return \"Sophia\"\n",
        "\n",
        "\n",
        "def main():\n",
        "    name = get_name()\n",
        "    print(f\"Howdy {name}!\")\n",
        "\n",
        "\n",
        "if __name__ == \"__main__\":\n",
        "    main()"
      ],
      "metadata": {
        "colab": {
          "base_uri": "https://localhost:8080/"
        },
        "id": "sfaQrhsHIx56",
        "outputId": "e394d5c4-36b0-4f60-a40d-4a913c2d5ea2"
      },
      "execution_count": 6,
      "outputs": [
        {
          "output_type": "stream",
          "name": "stdout",
          "text": [
            "Howdy Sophia!\n"
          ]
        }
      ]
    },
    {
      "cell_type": "markdown",
      "source": [
        "### 06_is_odd"
      ],
      "metadata": {
        "id": "jHel2Pj3MN5P"
      }
    },
    {
      "cell_type": "code",
      "source": [
        "def is_odd(value):\n",
        "    remainder = value % 2\n",
        "    return remainder == 1\n",
        "\n",
        "\n",
        "def main():\n",
        "    for i in range(10):\n",
        "        if is_odd(i):\n",
        "            print(\"odd\")\n",
        "        else:\n",
        "            print(\"even\")\n",
        "\n",
        "\n",
        "if __name__ == \"__main__\":\n",
        "    main()"
      ],
      "metadata": {
        "colab": {
          "base_uri": "https://localhost:8080/"
        },
        "id": "r1529vrAMM7o",
        "outputId": "11935b83-fde3-4217-d657-209918f8d6ed"
      },
      "execution_count": 7,
      "outputs": [
        {
          "output_type": "stream",
          "name": "stdout",
          "text": [
            "even\n",
            "odd\n",
            "even\n",
            "odd\n",
            "even\n",
            "odd\n",
            "even\n",
            "odd\n",
            "even\n",
            "odd\n"
          ]
        }
      ]
    },
    {
      "cell_type": "markdown",
      "source": [
        "### 07_print_divisor"
      ],
      "metadata": {
        "id": "_PhTLtj4OFcO"
      }
    },
    {
      "cell_type": "code",
      "source": [
        "def print_divisors(num):\n",
        "    print(f\"Here are my divisor: {num}\")\n",
        "    for i in range(num):\n",
        "        curr_divisor = i + 1\n",
        "        if num % curr_divisor == 0:\n",
        "            print(curr_divisor)\n",
        "\n",
        "\n",
        "def main():\n",
        "    num = int(input(\"Enter a number: \"))\n",
        "    print_divisors(num)\n",
        "\n",
        "\n",
        "if __name__ == \"__main__\":\n",
        "    main()"
      ],
      "metadata": {
        "colab": {
          "base_uri": "https://localhost:8080/"
        },
        "id": "Gr-q0Z8tOERt",
        "outputId": "613507e2-bdd7-44f4-bc4a-afada90963fb"
      },
      "execution_count": 8,
      "outputs": [
        {
          "output_type": "stream",
          "name": "stdout",
          "text": [
            "Enter a number: 8\n",
            "Here are my divisor: 8\n",
            "1\n",
            "2\n",
            "4\n",
            "8\n"
          ]
        }
      ]
    },
    {
      "cell_type": "markdown",
      "source": [
        "### 08_print_multiple"
      ],
      "metadata": {
        "id": "exVo4YQMOSmd"
      }
    },
    {
      "cell_type": "code",
      "source": [
        "def print_multiple(message, repeats):\n",
        "    for i in range(repeats):\n",
        "        print(message)\n",
        "\n",
        "\n",
        "def main():\n",
        "    user_number = int(input(\"Enter a number of times to repeat your message: \"))\n",
        "    user_message = input(\"Please type a message: \")\n",
        "    print_multiple(user_message, user_number)\n",
        "\n",
        "\n",
        "if __name__ == \"__main__\":\n",
        "    main()"
      ],
      "metadata": {
        "colab": {
          "base_uri": "https://localhost:8080/"
        },
        "id": "CCt_7WjDOUUF",
        "outputId": "2f4468df-c1b5-47a2-8f2b-7f8c62a3c0fe"
      },
      "execution_count": 10,
      "outputs": [
        {
          "output_type": "stream",
          "name": "stdout",
          "text": [
            "Enter a number of times to repeat your message: 6\n",
            "Please type a message: hello\n",
            "hello\n",
            "hello\n",
            "hello\n",
            "hello\n",
            "hello\n",
            "hello\n"
          ]
        }
      ]
    },
    {
      "cell_type": "markdown",
      "source": [
        "### 09_sentence_generator"
      ],
      "metadata": {
        "id": "XXNiOhelPovE"
      }
    },
    {
      "cell_type": "code",
      "source": [
        "def make_sentence(word, parts_of_speech):\n",
        "    if parts_of_speech == 0:\n",
        "        print(f\"I am excited to add this {word} to my vast collection of them!\")\n",
        "    elif parts_of_speech == 1:\n",
        "        print(f\" It's so nice outside today it makes me want to {word}!\")\n",
        "    elif parts_of_speech == 2:\n",
        "        print(f\"Looking out my window, the sky is big and {word}\")\n",
        "    else:\n",
        "        print(\"Part of speech must be 0, 1, or 2! Can't make a sentence.\")\n",
        "\n",
        "def main():\n",
        "  word = input(\"Please type a noun, verb , or adjective: \")\n",
        "  print(\"Is this a noun, verb or adjective?\")\n",
        "  parts_of_speech = int(input(\"Type 0 for noun, 1 for verb, 2 for adjective: \"))\n",
        "  make_sentence(word, parts_of_speech)\n",
        "\n",
        "if __name__ == \"__main__\":\n",
        "  main()"
      ],
      "metadata": {
        "colab": {
          "base_uri": "https://localhost:8080/"
        },
        "id": "P-VHrTswT_Kg",
        "outputId": "c9355a1a-a60b-455f-9275-f26b31eeaaa1"
      },
      "execution_count": 11,
      "outputs": [
        {
          "output_type": "stream",
          "name": "stdout",
          "text": [
            "Please type a noun, verb , or adjective: play\n",
            "Is this a noun, verb or adjective?\n",
            "Type 0 for noun, 1 for verb, 2 for adjective: 1\n",
            " It's so nice outside today it makes me want to play!\n"
          ]
        }
      ]
    },
    {
      "cell_type": "markdown",
      "source": [
        "### 10_print_ones_digit"
      ],
      "metadata": {
        "id": "SXg8xFP4WUQt"
      }
    },
    {
      "cell_type": "code",
      "source": [
        "def print_ones_digit(num):\n",
        "    ones_digit = num % 10\n",
        "    print(f\"The one digit is {ones_digit}\")\n",
        "\n",
        "\n",
        "def main():\n",
        "    user_input = int(input(\"Enter a number: \"))\n",
        "    print_ones_digit(user_input)\n",
        "\n",
        "\n",
        "if __name__ == \"__main__\":\n",
        "    main()"
      ],
      "metadata": {
        "colab": {
          "base_uri": "https://localhost:8080/"
        },
        "id": "VeHtz8OKWUAr",
        "outputId": "d63c79d7-6899-42cc-b267-d63c75e8902d"
      },
      "execution_count": 15,
      "outputs": [
        {
          "output_type": "stream",
          "name": "stdout",
          "text": [
            "Enter a number: 42\n",
            "The one digit is 2\n"
          ]
        }
      ]
    }
  ]
}