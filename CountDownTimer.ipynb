{
  "nbformat": 4,
  "nbformat_minor": 0,
  "metadata": {
    "colab": {
      "provenance": [],
      "authorship_tag": "ABX9TyPktmxPD3I6tAbHREd11mt+",
      "include_colab_link": true
    },
    "kernelspec": {
      "name": "python3",
      "display_name": "Python 3"
    },
    "language_info": {
      "name": "python"
    }
  },
  "cells": [
    {
      "cell_type": "markdown",
      "metadata": {
        "id": "view-in-github",
        "colab_type": "text"
      },
      "source": [
        "<a href=\"https://colab.research.google.com/github/sadafshahab12/giaic_assignment_4_google_colab/blob/main/Untitled1.ipynb\" target=\"_parent\"><img src=\"https://colab.research.google.com/assets/colab-badge.svg\" alt=\"Open In Colab\"/></a>"
      ]
    },
    {
      "cell_type": "markdown",
      "source": [
        "### Project 6: Countdown Timer"
      ],
      "metadata": {
        "id": "YAkr_Kj7m7pX"
      }
    },
    {
      "cell_type": "code",
      "execution_count": 7,
      "metadata": {
        "colab": {
          "base_uri": "https://localhost:8080/"
        },
        "id": "peqr_VwFm6VR",
        "outputId": "ccc2d348-ec02-40bc-f58c-ada3e86caedd"
      },
      "outputs": [
        {
          "output_type": "stream",
          "name": "stdout",
          "text": [
            "Enter time in secs: 10\n",
            "Timer completed!\n"
          ]
        }
      ],
      "source": [
        "import time\n",
        "\n",
        "\n",
        "def count_down(t):\n",
        "    while t:\n",
        "        mins, secs = divmod(t, 60)\n",
        "        timer = \"{:02d} : {:02d} \".format(mins, secs)\n",
        "        print(timer, end=\"\\r\")\n",
        "        time.sleep(1)\n",
        "        t -= 1\n",
        "\n",
        "    print(\"Timer completed!\")\n",
        "\n",
        "\n",
        "t = input(\"Enter time in secs: \")\n",
        "count_down(int(t))"
      ]
    }
  ]
}
