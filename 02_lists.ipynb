{
  "nbformat": 4,
  "nbformat_minor": 0,
  "metadata": {
    "colab": {
      "provenance": [],
      "authorship_tag": "ABX9TyPHMbz0bKB3lNwUN85Ywbvn",
      "include_colab_link": true
    },
    "kernelspec": {
      "name": "python3",
      "display_name": "Python 3"
    },
    "language_info": {
      "name": "python"
    }
  },
  "cells": [
    {
      "cell_type": "markdown",
      "metadata": {
        "id": "view-in-github",
        "colab_type": "text"
      },
      "source": [
        "<a href=\"https://colab.research.google.com/github/sadafshahab12/giaic_assignment_4_google_colab/blob/main/02_lists.ipynb\" target=\"_parent\"><img src=\"https://colab.research.google.com/assets/colab-badge.svg\" alt=\"Open In Colab\"/></a>"
      ]
    },
    {
      "cell_type": "markdown",
      "source": [
        "### 01_add_many_number"
      ],
      "metadata": {
        "id": "19VN1-_y7fQL"
      }
    },
    {
      "cell_type": "code",
      "execution_count": null,
      "metadata": {
        "colab": {
          "base_uri": "https://localhost:8080/"
        },
        "id": "euXlTTgJ7Pf5",
        "outputId": "f85089b6-e1e9-42d1-e395-e7e33eeb72b9"
      },
      "outputs": [
        {
          "output_type": "stream",
          "name": "stdout",
          "text": [
            "The sum of many number is 55\n"
          ]
        }
      ],
      "source": [
        "def add_many_numbers(numbers):\n",
        "    total = 0\n",
        "    for num in numbers:\n",
        "        total = total + num\n",
        "    return total  # return the sum of the numbers if we do not return it will be None\n",
        "\n",
        "\n",
        "def main():\n",
        "    \"\"\"take a list of number and return the sum of thos numbers.\"\"\"\n",
        "    number = [1, 2, 3, 4, 5, 6, 7, 8, 9, 10]\n",
        "    sum_of_many_number = add_many_numbers(number)\n",
        "    print(f\"The sum of many number is {sum_of_many_number}\")\n",
        "\n",
        "\n",
        "if __name__ == \"__main__\":\n",
        "    main()"
      ]
    },
    {
      "cell_type": "markdown",
      "source": [
        "### 02_double_list"
      ],
      "metadata": {
        "id": "ZLbKtjsmxsYM"
      }
    },
    {
      "cell_type": "code",
      "source": [
        "def main():\n",
        "    \"\"\"take a list of number and return the sum of those numbers.\"\"\"\n",
        "    number_list = [1, 2, 3, 4]\n",
        "    doubled_list = []\n",
        "    for num in range(len(number_list)):\n",
        "        doubled = number_list[num] * 2\n",
        "        doubled_list.append(doubled)\n",
        "    print(f\"The doubled list is {doubled_list}\")\n",
        "\n",
        "\n",
        "if __name__ == \"__main__\":\n",
        "    main()\n"
      ],
      "metadata": {
        "colab": {
          "base_uri": "https://localhost:8080/"
        },
        "id": "HAcAGGlIxq4d",
        "outputId": "6552460c-ce5e-4327-9f04-a80f321e53fa"
      },
      "execution_count": null,
      "outputs": [
        {
          "output_type": "stream",
          "name": "stdout",
          "text": [
            "The doubled list is [2, 4, 6, 8]\n"
          ]
        }
      ]
    },
    {
      "cell_type": "markdown",
      "source": [
        "### 03_erase_canvas"
      ],
      "metadata": {
        "id": "Uol_y3Rhx7lM"
      }
    },
    {
      "cell_type": "code",
      "source": [
        "import tkinter as tk\n",
        "\n",
        "root = tk.Tk()\n",
        "root.title(\"Canvas Eraser\")\n",
        "\n",
        "# create canvas inside the window\n",
        "canvas = tk.Canvas(root, width=500, height=500, bg=\"blue\")\n",
        "canvas.pack()\n",
        "\n",
        "\n",
        "# grid size\n",
        "rows = 10\n",
        "cols = 10\n",
        "cell_size = 50  # 500/10 = 50\n",
        "\n",
        "cells = [] # we will store the cell info in this list\n",
        "\n",
        "for row in range(rows):\n",
        "    for col in range(cols):\n",
        "        x1 = col * cell_size # * cell ki position ko calculate karte hain.\n",
        "        y1 = row * cell_size # * cell ki position ko calculate karte hain.\n",
        "        x2 = x1 + cell_size # + cell ki size ko add karte hain.\n",
        "        y2 = y1 + cell_size # + cell ki size ko add karte hain.\n",
        "        rect = canvas.create_rectangle(\n",
        "            x1, y1, x2, y2, fill=\"blue\", outline=\"white\", tags=\"cell\"\n",
        "        )\n",
        "        # storing the cell info in a cell list\n",
        "        cells.append({\"id\": rect, \"x1\": x1, \"y1\": y1, \"x2\": x2, \"y2\": y2})\n",
        "\n",
        "# create eraser rectangle\n",
        "\n",
        "eraser_rect = None  # it will store the eraser rectangle id\n",
        "eraser_overlap = None\n",
        "\n",
        "\n",
        "def is_overlapping(r1, r2):\n",
        "    \"\"\"function to check if two rectangles overlap\"\"\"\n",
        "    return not (\n",
        "        r1[\"x2\"] < r2[\"x1\"]\n",
        "        or r1[\"x1\"] > r2[\"x2\"]\n",
        "        or r1[\"y2\"] < r2[\"y1\"]\n",
        "        or r1[\"y1\"] > r2[\"y2\"]\n",
        "        # This takes two rectangles: r1 and r2 (with x1, y1, x2, y2), and returns True if they overlap.\n",
        "    )\n",
        "\n",
        "\n",
        "def on_mouse_down(event):\n",
        "    global eraser_rect\n",
        "    x, y = event.x, event.y\n",
        "    eraser_size = 30\n",
        "    eraser_rect = canvas.create_rectangle(\n",
        "        x, y, x + eraser_size, y + eraser_size, outline=\"black\", width=2\n",
        "    )\n",
        "\n",
        "\n",
        "def on_mouse_drag(event):\n",
        "    \"\"\"function for eraser to follow mouse movement and drag\"\"\"\n",
        "    global eraser_rect, eraser_overlap\n",
        "    if eraser_rect:\n",
        "        eraser_size = 30\n",
        "        x, y = event.x, event.y\n",
        "        canvas.coords(eraser_rect, x, y, x + eraser_size, y + eraser_size)\n",
        "\n",
        "        eraser_overlap = {\n",
        "            \"x1\": x,\n",
        "            \"y1\": y,\n",
        "            \"x2\": x + eraser_size,\n",
        "            \"y2\": y + eraser_size,\n",
        "        }\n",
        "\n",
        "        for cell in cells:\n",
        "            if is_overlapping(eraser_overlap, cell):\n",
        "                canvas.itemconfig(cell[\"id\"], fill=\"white\")\n",
        "\n",
        "\n",
        "def on_mouse_release():\n",
        "    \"\"\"function to remove the eraser after releasing the mouse\"\"\"\n",
        "    global eraser_rect, eraser_overlap\n",
        "    if eraser_rect:\n",
        "        canvas.delete(eraser_rect)\n",
        "        eraser_rect = None\n",
        "        eraser_overlap = None\n",
        "\n",
        "\n",
        "canvas.bind(\n",
        "    \"<Button-1>\", on_mouse_down\n",
        ")  # when mouse i clicked, create eraser rectangle\n",
        "canvas.bind(\n",
        "    \"<B1-Motion>\", on_mouse_drag\n",
        ")  # when mouse is dragged, move the eraser rectangle\n",
        "canvas.bind(\"<ButtonRelease-1>\", on_mouse_release)\n",
        "\n",
        "\n",
        "root.mainloop()\n"
      ],
      "metadata": {
        "id": "_0Hr1VPGYcMr"
      },
      "execution_count": null,
      "outputs": []
    },
    {
      "cell_type": "markdown",
      "source": [
        "### 04_flowing_with_data_structures"
      ],
      "metadata": {
        "id": "KJrKFnuAYfVq"
      }
    },
    {
      "cell_type": "code",
      "source": [
        "def add_three_copies (my_list, data):\n",
        "  for i in range(3):\n",
        "    my_list.append(data)\n",
        "\n",
        "def main():\n",
        "  message = input(\"Enter a message to copy: \")\n",
        "  my_list = []\n",
        "  print(\"List before: \" , my_list)\n",
        "  add_three_copies(my_list , message)\n",
        "  print(\"List after: \" , my_list)\n",
        "\n",
        "if __name__ == \"__main__\":\n",
        "  main()"
      ],
      "metadata": {
        "colab": {
          "base_uri": "https://localhost:8080/"
        },
        "id": "WhQT0I-eYkNa",
        "outputId": "59fa6dba-6530-4a31-cca0-c7d2321e9f29"
      },
      "execution_count": 1,
      "outputs": [
        {
          "output_type": "stream",
          "name": "stdout",
          "text": [
            "Enter a message to copy: Hello World\n",
            "List before:  []\n",
            "List after:  ['Hello World', 'Hello World', 'Hello World']\n"
          ]
        }
      ]
    },
    {
      "cell_type": "markdown",
      "source": [
        "### 05_get_first_element"
      ],
      "metadata": {
        "id": "McWnOcrSrGtJ"
      }
    },
    {
      "cell_type": "code",
      "source": [
        "def get_first_element(lst):\n",
        "    \"\"\"Print the first element of the list.\"\"\"\n",
        "    print(lst[0])\n",
        "\n",
        "\n",
        "def get_lst():\n",
        "    \"\"\"prompt the user to input the list one element at a time\"\"\"\n",
        "    lst = []  # empty list to store the elements\n",
        "    elem = input(\"Enter an element of list and press enter to stop.\")\n",
        "    while elem != \"\":\n",
        "        lst.append(elem)\n",
        "        elem = input(\"Enter an element of list and press enter to stop.\")\n",
        "    return lst\n",
        "\n",
        "\n",
        "def main():\n",
        "    \"\"\"Main function to get the list and print the first element\"\"\"\n",
        "    lst = get_lst()\n",
        "    get_first_element(lst)\n",
        "\n",
        "\n",
        "if __name__ == \"__main__\":\n",
        "    main()\n"
      ],
      "metadata": {
        "colab": {
          "base_uri": "https://localhost:8080/"
        },
        "id": "kXA7z4YPrJlf",
        "outputId": "9e443317-c552-4f4a-c077-a096557e1608"
      },
      "execution_count": 1,
      "outputs": [
        {
          "output_type": "stream",
          "name": "stdout",
          "text": [
            "Enter an element of list and press enter to stop.cake\n",
            "Enter an element of list and press enter to stop.\n",
            "cake\n"
          ]
        }
      ]
    },
    {
      "cell_type": "markdown",
      "source": [
        "### 06_get_last_element"
      ],
      "metadata": {
        "id": "l44YH6yCrUKH"
      }
    },
    {
      "cell_type": "code",
      "source": [
        "def get_last_element(lst):\n",
        "  \"\"\"print the last element of the list\"\"\"\n",
        "  print(lst[-1])\n",
        "\n",
        "def get_last():\n",
        "  \"\"\"prompt the user to input the list one element at a time\"\"\"\n",
        "  lst = [] # empty list to store the elements\n",
        "  elem = input(\"Enter an element of list and press enter to stop.\")\n",
        "  while elem != \"\":\n",
        "    lst.append(elem)\n",
        "    elem = input(\"Enter an element of list and press enter to stop.\")\n",
        "  return lst\n",
        "\n",
        "def main():\n",
        "  \"\"\"Main function to get the list and print the last element\"\"\"\n",
        "  lst  = get_last()\n",
        "  get_last_element(lst)\n",
        "\n",
        "if __name__ == \"__main__\":\n",
        "\n",
        "  main()"
      ],
      "metadata": {
        "colab": {
          "base_uri": "https://localhost:8080/"
        },
        "id": "uVNt95Cls_6f",
        "outputId": "a4788b81-1a61-4c4c-cccd-926a6ed55dc1"
      },
      "execution_count": 2,
      "outputs": [
        {
          "output_type": "stream",
          "name": "stdout",
          "text": [
            "Enter an element of list and press enter to stop.apple\n",
            "Enter an element of list and press enter to stop.mango\n",
            "Enter an element of list and press enter to stop.orange\n",
            "Enter an element of list and press enter to stop.\n",
            "orange\n"
          ]
        }
      ]
    },
    {
      "cell_type": "markdown",
      "source": [
        "### 07_get_list"
      ],
      "metadata": {
        "id": "anKIBtvZu2fs"
      }
    },
    {
      "cell_type": "code",
      "source": [
        "def get_list():\n",
        "    \"\"\"Prompt the user to enter values one by one and store them in a list\"\"\"\n",
        "    user_list = []\n",
        "    while True:\n",
        "        value = input(\"enter a value: \")\n",
        "        if value == \"\":\n",
        "            break\n",
        "        user_list.append(value)\n",
        "    return user_list\n",
        "\n",
        "\n",
        "def main():\n",
        "    \"\"\"Main function to get the list and print it\"\"\"\n",
        "    user_list = get_list()\n",
        "    print(\"Here's the list: \", user_list)\n",
        "\n",
        "\n",
        "if __name__ == \"__main__\":\n",
        "    main()\n"
      ],
      "metadata": {
        "colab": {
          "base_uri": "https://localhost:8080/"
        },
        "id": "jDAd6ia3u35s",
        "outputId": "c0346dca-8a83-48f2-f65f-6cf0f55bb4b6"
      },
      "execution_count": 3,
      "outputs": [
        {
          "output_type": "stream",
          "name": "stdout",
          "text": [
            "enter a value: 1\n",
            "enter a value: 2\n",
            "enter a value: 3\n",
            "enter a value: 4\n",
            "enter a value: 5\n",
            "enter a value: \n",
            "Here's the list:  ['1', '2', '3', '4', '5']\n"
          ]
        }
      ]
    },
    {
      "cell_type": "markdown",
      "source": [
        "### Second method"
      ],
      "metadata": {
        "id": "I50CzeH7v39D"
      }
    },
    {
      "cell_type": "code",
      "source": [
        "def second():\n",
        "    user_list = []\n",
        "    user_input = input(\"enter a value in number: \")\n",
        "    while user_input:\n",
        "        user_list.append(user_input)\n",
        "        user_input = input(\"enter a value in number: \")\n",
        "        print(user_list)\n",
        "\n",
        "\n",
        "if __name__ == \"__main__\":\n",
        "    second()"
      ],
      "metadata": {
        "colab": {
          "base_uri": "https://localhost:8080/"
        },
        "id": "eP053JLKv5zq",
        "outputId": "fa5d0c3a-fc5c-48aa-e590-22ed6aab3f0f"
      },
      "execution_count": 6,
      "outputs": [
        {
          "output_type": "stream",
          "name": "stdout",
          "text": [
            "enter a value in number: 8\n",
            "enter a value in number: 10\n",
            "['8']\n",
            "enter a value in number: 1\n",
            "['8', '10']\n",
            "enter a value in number: 2\n",
            "['8', '10', '1']\n",
            "enter a value in number: 3\n",
            "['8', '10', '1', '2']\n",
            "enter a value in number: 4\n",
            "['8', '10', '1', '2', '3']\n",
            "enter a value in number: 5\n",
            "['8', '10', '1', '2', '3', '4']\n",
            "enter a value in number: \n",
            "['8', '10', '1', '2', '3', '4', '5']\n"
          ]
        }
      ]
    },
    {
      "cell_type": "markdown",
      "source": [
        "### 08_shorten"
      ],
      "metadata": {
        "id": "9aE1U-N5wE7a"
      }
    },
    {
      "cell_type": "code",
      "source": [
        "MAX_LENGTH = 3\n",
        "\n",
        "def shorten(lst):\n",
        "    while len(lst) > MAX_LENGTH:\n",
        "        remove_item = lst.pop()\n",
        "        print(remove_item)\n",
        "\n",
        "\n",
        "def get_list():\n",
        "    \"\"\"prompt the user to enter one element of the list at a time and returns the returning list\"\"\"\n",
        "    items = []\n",
        "    elem = input(\"Please enter an element of the list or press enter to stop.\")\n",
        "    while elem != \"\":\n",
        "        items.append(elem)\n",
        "        elem = input(\"Please enter an element of the list or press enter to stop.\")\n",
        "    return items\n",
        "\n",
        "\n",
        "def main():\n",
        "    elem_list = get_list()\n",
        "    shorten(elem_list)\n",
        "    print(elem_list)\n",
        "\n",
        "\n",
        "if __name__ == \"__main__\":\n",
        "    main()\n"
      ],
      "metadata": {
        "colab": {
          "base_uri": "https://localhost:8080/"
        },
        "id": "JyzQ9exRAkip",
        "outputId": "f4d6f094-7018-473a-a6f6-de04338de85f"
      },
      "execution_count": 9,
      "outputs": [
        {
          "output_type": "stream",
          "name": "stdout",
          "text": [
            "Please enter an element of the list or press enter to stop.1\n",
            "Please enter an element of the list or press enter to stop.2\n",
            "Please enter an element of the list or press enter to stop.3\n",
            "Please enter an element of the list or press enter to stop.4\n",
            "Please enter an element of the list or press enter to stop.5\n",
            "Please enter an element of the list or press enter to stop.\n",
            "5\n",
            "4\n",
            "['1', '2', '3']\n"
          ]
        }
      ]
    }
  ]
}