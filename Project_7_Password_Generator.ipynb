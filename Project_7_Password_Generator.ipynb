{
  "nbformat": 4,
  "nbformat_minor": 0,
  "metadata": {
    "colab": {
      "provenance": [],
      "authorship_tag": "ABX9TyO2eWEoXreXeQeRZDyCeVm9",
      "include_colab_link": true
    },
    "kernelspec": {
      "name": "python3",
      "display_name": "Python 3"
    },
    "language_info": {
      "name": "python"
    }
  },
  "cells": [
    {
      "cell_type": "markdown",
      "metadata": {
        "id": "view-in-github",
        "colab_type": "text"
      },
      "source": [
        "<a href=\"https://colab.research.google.com/github/sadafshahab12/giaic_assignment_4_google_colab/blob/main/Project_7_Password_Generator.ipynb\" target=\"_parent\"><img src=\"https://colab.research.google.com/assets/colab-badge.svg\" alt=\"Open In Colab\"/></a>"
      ]
    },
    {
      "cell_type": "markdown",
      "source": [
        "## Project 7: Password Generator"
      ],
      "metadata": {
        "id": "JRCbVTzrJ67m"
      }
    },
    {
      "cell_type": "code",
      "execution_count": 1,
      "metadata": {
        "id": "vmvqQBFNJqZI",
        "colab": {
          "base_uri": "https://localhost:8080/"
        },
        "outputId": "efb7ebc0-436a-4f90-c0c4-21867211f110"
      },
      "outputs": [
        {
          "output_type": "stream",
          "name": "stdout",
          "text": [
            "Welcome to Password Generator\n",
            "How many password to generate: 4\n",
            "Write the length of password to generate: 8\n",
            "\n",
            "Here is your password: \n",
            "\n",
            "U3wsfqoL\n",
            "wH.(EdiU\n",
            "VR%Q4,vT\n",
            "%q.#pgS?\n"
          ]
        }
      ],
      "source": [
        "import random\n",
        "\n",
        "\n",
        "def main():\n",
        "    print(\"Welcome to Password Generator\")\n",
        "    chars = (\n",
        "        \"abcedfghijklmnopqrstuvwxyzABCEDFGHIJKLMNOPQRSTUVWXYZ!@#$%^&*().,?0123456789\"\n",
        "    )\n",
        "    password_amount = int(input(\"How many password to generate: \"))\n",
        "    password_length = int(input(\"Write the length of password to generate: \"))\n",
        "\n",
        "    print(\"\\nHere is your password: \\n\")\n",
        "\n",
        "    for pswd in range(password_amount):  # list of passwords\n",
        "        passwords = \"\"  # store password in this\n",
        "        for c in range(password_length):  # password length\n",
        "            passwords += random.choice(chars)\n",
        "        print(passwords)\n",
        "\n",
        "\n",
        "if __name__ == \"__main__\":\n",
        "    main()\n"
      ]
    }
  ]
}