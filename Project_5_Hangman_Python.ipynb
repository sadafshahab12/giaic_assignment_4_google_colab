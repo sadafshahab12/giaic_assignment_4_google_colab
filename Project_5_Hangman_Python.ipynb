{
  "nbformat": 4,
  "nbformat_minor": 0,
  "metadata": {
    "colab": {
      "provenance": [],
      "authorship_tag": "ABX9TyOLWqYDEKfwdBF1yVNVts2b",
      "include_colab_link": true
    },
    "kernelspec": {
      "name": "python3",
      "display_name": "Python 3"
    },
    "language_info": {
      "name": "python"
    }
  },
  "cells": [
    {
      "cell_type": "markdown",
      "metadata": {
        "id": "view-in-github",
        "colab_type": "text"
      },
      "source": [
        "<a href=\"https://colab.research.google.com/github/sadafshahab12/giaic_assignment_4_google_colab/blob/main/Project_5_Hangman_Python.ipynb\" target=\"_parent\"><img src=\"https://colab.research.google.com/assets/colab-badge.svg\" alt=\"Open In Colab\"/></a>"
      ]
    },
    {
      "cell_type": "markdown",
      "source": [
        "## Project 5: Hangman Python"
      ],
      "metadata": {
        "id": "AOhy7VQ4lzzH"
      }
    },
    {
      "cell_type": "code",
      "execution_count": 2,
      "metadata": {
        "colab": {
          "base_uri": "https://localhost:8080/"
        },
        "id": "YGfB3_golyti",
        "outputId": "d0a088fc-a7b9-4561-ced5-16ba5c88d92e"
      },
      "outputs": [
        {
          "output_type": "stream",
          "name": "stdout",
          "text": [
            "You have used these letters:  \n",
            "Current word:  - - - - - -\n",
            "Guess a letter: a\n",
            "You have used these letters:  A\n",
            "Current word:  A - - A - -\n",
            "Guess a letter: b\n",
            "You have used these letters:  B A\n",
            "Current word:  A B - A - -\n",
            "Guess a letter: u\n",
            "You have used these letters:  B A U\n",
            "Current word:  A B - A - -\n",
            "Guess a letter: d\n",
            "You have used these letters:  B A U D\n",
            "Current word:  A B - A - D\n",
            "Guess a letter: s\n",
            "You have used these letters:  B U D A S\n",
            "Current word:  A B - A - D\n",
            "Guess a letter: r\n",
            "You have used these letters:  B U R D A S\n",
            "Current word:  A B - A R D\n",
            "Guess a letter: o\n",
            "\n",
            "🎉 Congratulations! You guessed the word: ABOARD\n"
          ]
        }
      ],
      "source": [
        "import random\n",
        "\n",
        "import string\n",
        "words = [\"aback\",\"abaft\",\"abandoned\",\"abashed\",\"aberrant\",\"abhorrent\",\"abiding\",\"abject\",\"ablaze\",\"able\",\"abnormal\",\"aboard\",\"aboriginal\",\"abortive\",\"abounding\",\"abrasive\",\"abrupt\",\"absent\",\"absorbed\"]\n",
        "def get_valid_word(words):\n",
        "    \"\"\"Returns a valid word from the list of words that matches the given word length.\"\"\"\n",
        "    word = random.choice(words)\n",
        "    while \"_\" in word or \" \" in word:\n",
        "        word = random.choice(words)\n",
        "    return word\n",
        "\n",
        "\n",
        "def hangman():\n",
        "    word = get_valid_word(words).upper()\n",
        "    word_letters = set(word)  # letter in the word\n",
        "    alphabet = set(string.ascii_uppercase)\n",
        "    used_letters = set()  # what user has guessed\n",
        "    while len(word_letters) > 0:\n",
        "        print(\"You have used these letters: \", \" \".join(used_letters))\n",
        "        word_list = [letter if letter in used_letters else \"-\" for letter in word]\n",
        "        print(\"Current word: \", \" \".join(word_list))\n",
        "        user_letter = input(\"Guess a letter: \").upper()\n",
        "        if user_letter in alphabet - used_letters:\n",
        "            used_letters.add(user_letter)\n",
        "            if user_letter in word_letters:\n",
        "                word_letters.remove(user_letter)\n",
        "\n",
        "        elif user_letter in used_letters:\n",
        "            print(\n",
        "                f\"You have already guessed the letter {user_letter}. Try another one!\"\n",
        "            )\n",
        "        else:\n",
        "            print(f\"Invalid letter. Please try again.\")\n",
        "    print(f\"\\n🎉 Congratulations! You guessed the word: {word}\")\n",
        "\n",
        "hangman()\n"
      ]
    }
  ]
}