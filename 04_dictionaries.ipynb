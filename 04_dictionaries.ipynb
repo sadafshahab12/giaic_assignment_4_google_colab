{
  "nbformat": 4,
  "nbformat_minor": 0,
  "metadata": {
    "colab": {
      "provenance": [],
      "authorship_tag": "ABX9TyPJc3Awr0owPe6CCaeX3KS2",
      "include_colab_link": true
    },
    "kernelspec": {
      "name": "python3",
      "display_name": "Python 3"
    },
    "language_info": {
      "name": "python"
    }
  },
  "cells": [
    {
      "cell_type": "markdown",
      "metadata": {
        "id": "view-in-github",
        "colab_type": "text"
      },
      "source": [
        "<a href=\"https://colab.research.google.com/github/sadafshahab12/giaic_assignment_4_google_colab/blob/main/04_dictionaries.ipynb\" target=\"_parent\"><img src=\"https://colab.research.google.com/assets/colab-badge.svg\" alt=\"Open In Colab\"/></a>"
      ]
    },
    {
      "cell_type": "markdown",
      "source": [
        "### 00_count_nums"
      ],
      "metadata": {
        "id": "BMtp2S5AbJx3"
      }
    },
    {
      "cell_type": "code",
      "execution_count": 4,
      "metadata": {
        "colab": {
          "base_uri": "https://localhost:8080/"
        },
        "id": "fQsG2yB4bHbm",
        "outputId": "910b9870-4f63-4d26-db3a-8f759d5b0ca1"
      },
      "outputs": [
        {
          "output_type": "stream",
          "name": "stdout",
          "text": [
            "Enter a number: 5\n",
            "Enter a number: 2\n",
            "Enter a number: 5\n",
            "Enter a number: 5\n",
            "Enter a number: 10\n",
            "Enter a number: 1\n",
            "Enter a number: \n",
            "{'5': 3, '2': 1, '10': 1, '1': 1}\n",
            "5 appears 3 times.\n",
            "2 appears 1 times.\n",
            "10 appears 1 times.\n",
            "1 appears 1 times.\n"
          ]
        }
      ],
      "source": [
        "def get_user_number():\n",
        "    \"\"\"Create an empty list to store user input , once they enter a blank line, break the loop and print the list\"\"\"\n",
        "    user_number_list = []\n",
        "    while True:\n",
        "        user_input = input(\"Enter a number: \")\n",
        "        # if the user do not enter any value break the loop\n",
        "        if user_input == \"\":\n",
        "            break\n",
        "        user_number_list.append(user_input)\n",
        "    return user_number_list\n",
        "\n",
        "\n",
        "def count_nums(num_list):\n",
        "    \"\"\"Count the number of times each number appears in a list\n",
        "    * Create a dictionary to store the count of each number\n",
        "    * Loop throught the list and count the number of times each number appears\n",
        "    if the number is not in the dictionary add it as key with a value 1\n",
        "    if the numbe is in the dictionary increment its value by 1\n",
        "    \"\"\"\n",
        "    num_dic = {}\n",
        "    for num in num_list:\n",
        "        if num not in num_dic:\n",
        "            num_dic[num] = 1\n",
        "        else:\n",
        "            num_dic[num] += 1\n",
        "    print(num_dic)\n",
        "    return num_dic\n",
        "\n",
        "\n",
        "def print_count(num_dic):\n",
        "    \"\"\"loop over the dic and print out each key and its value\"\"\"\n",
        "    for num in num_dic:\n",
        "        print(f\"{str(num)} appears {str(num_dic[num])} times.\")\n",
        "\n",
        "\n",
        "def main():\n",
        "    \"\"\"Ask the user for input and store it in a list, once they enter a blank line, break loop and print the count of number appears.\"\"\"\n",
        "    user_num_list = get_user_number()\n",
        "    num_dict = count_nums(user_num_list)\n",
        "    print_count(num_dict)\n",
        "\n",
        "\n",
        "if __name__ == \"__main__\":\n",
        "    main()\n",
        "\n"
      ]
    },
    {
      "cell_type": "markdown",
      "source": [
        "### 01_phonebook"
      ],
      "metadata": {
        "id": "K8GUJO8chcBh"
      }
    },
    {
      "cell_type": "code",
      "source": [
        "def read_phone_numbers():\n",
        "    phonebook = {}\n",
        "    while True:\n",
        "        \"\"\"use while loop so that user can add many names and contact. if they type done the loop will exit and return a dictionary of phonebook\"\"\"\n",
        "        name = input(\"Enter a name or done to stop: \")\n",
        "        if name == \"done\":\n",
        "            break\n",
        "        phone_number = input(\"Enter the phone number: \")\n",
        "        phonebook[name] = phone_number\n",
        "    return phonebook\n",
        "\n",
        "\n",
        "def print_phonebook(phonebook):\n",
        "    for name in phonebook:\n",
        "        print(f\"{name} : {phonebook[name]}\")\n",
        "\n",
        "\n",
        "def lookup_for_numbers(phonebook):\n",
        "    \"\"\"allow the user to lookup number in the phonebook by looking up the number associated with a name\"\"\"\n",
        "    while True:\n",
        "        name = input(\"Enter name to lookup: \")\n",
        "        if name == \"\":\n",
        "            break\n",
        "        if name not in phonebook:\n",
        "            print(f\"{name} is not in phonebook\")\n",
        "        else:\n",
        "            print(phonebook[name])\n",
        "\n",
        "\n",
        "def main():\n",
        "    phonebook = read_phone_numbers()\n",
        "    print_phonebook(phonebook)\n",
        "    lookup_for_numbers(phonebook)\n",
        "\n",
        "\n",
        "if __name__ == \"__main__\":\n",
        "    main()\n"
      ],
      "metadata": {
        "colab": {
          "base_uri": "https://localhost:8080/"
        },
        "id": "uR1E0XrsheKA",
        "outputId": "26346f52-252e-4d4a-b885-7b65b7cb6ceb"
      },
      "execution_count": 5,
      "outputs": [
        {
          "name": "stdout",
          "output_type": "stream",
          "text": [
            "Enter a name or done to stop: sadaf shahab\n",
            "Enter the phone number: 03402195735\n",
            "Enter a name or done to stop: ayesha \n",
            "Enter the phone number: 03402158856\n",
            "Enter a name or done to stop: done\n",
            "sadaf shahab : 03402195735\n",
            "ayesha  : 03402158856\n",
            "Enter name to lookup: ayesha\n",
            "ayesha is not in phonebook\n",
            "Enter name to lookup: sadaf\n",
            "sadaf is not in phonebook\n",
            "Enter name to lookup: sadaf shahab\n",
            "03402195735\n",
            "Enter name to lookup: \n"
          ]
        }
      ]
    },
    {
      "cell_type": "markdown",
      "source": [
        "### 02_pop_up_shop"
      ],
      "metadata": {
        "id": "vp3MYI0NBZfG"
      }
    },
    {
      "cell_type": "code",
      "source": [
        "def main():\n",
        "    fruits = {\n",
        "        \"apple\": 1.5,\n",
        "        \"durian\": 50,\n",
        "        \"jackfruit\": 80,\n",
        "        \"kiwi\": 1,\n",
        "        \"rambutan\": 1.5,\n",
        "        \"mango\": 5,\n",
        "    }\n",
        "    total_cost = 0\n",
        "    for fruit_name in fruits:\n",
        "        price = fruits[fruit_name]\n",
        "        while True:\n",
        "            qty_bought = input(f\"How many {fruit_name} do you want to buy?\")\n",
        "            if qty_bought == \"\":\n",
        "                print(\"Please enter a number greater than or equal to 0.\")\n",
        "                continue\n",
        "            try:\n",
        "                qty_bought_int = int(qty_bought)\n",
        "                if qty_bought_int < 0:\n",
        "                    print(\"Please enter a non-negative number.\")\n",
        "                    continue  # Ask again\n",
        "                break\n",
        "            except ValueError:\n",
        "                # handle the case when the conversion fails\n",
        "                print(\"Invalid input. Please enter a valid integer.\")\n",
        "        total_cost += price * qty_bought_int\n",
        "    print(f\"Your total is $25{total_cost}\")\n",
        "\n",
        "\n",
        "if __name__ == \"__main__\":\n",
        "    main()"
      ],
      "metadata": {
        "colab": {
          "base_uri": "https://localhost:8080/"
        },
        "id": "rxFkd7mDBYt3",
        "outputId": "70f2e69b-24dc-49ed-d2d1-0e0553b37c3d"
      },
      "execution_count": 10,
      "outputs": [
        {
          "output_type": "stream",
          "name": "stdout",
          "text": [
            "How many apple do you want to buy?1\n",
            "How many durian do you want to buy?2\n",
            "How many jackfruit do you want to buy?4\n",
            "How many kiwi do you want to buy?1\n",
            "How many rambutan do you want to buy?2\n",
            "How many mango do you want to buy?3\n",
            "Your total is $25440.5\n"
          ]
        }
      ]
    },
    {
      "cell_type": "markdown",
      "source": [
        "### 03_powerful_passwords"
      ],
      "metadata": {
        "id": "1Z5Fw5LhIBhp"
      }
    },
    {
      "cell_type": "code",
      "source": [
        "from hashlib import sha256\n",
        "\n",
        "\n",
        "def login(email, stored_logins, password_to_check):\n",
        "    if stored_logins[email] == hash_password(password_to_check):\n",
        "        return True\n",
        "    return False\n",
        "\n",
        "\n",
        "def hash_password(password):\n",
        "    \"\"\"take in password and return hash value\n",
        "    Input : The Password we want\n",
        "    Output : The Hash of the password\n",
        "    \"\"\"\n",
        "    return sha256(password.encode()).hexdigest()\n",
        "\n",
        "\n",
        "def main():\n",
        "    stored_logins = {\n",
        "        \"example@gmail.com\": \"5e884898da28047151d0e56f8dc6292773603d0d6aabbdd62a11ef721d1542d8\",\n",
        "        \"code_in_placer@cip.org\": \"973607a4ae7b4cf7d96a100b0fb07e8519cc4f70441d41214a9f811577bb06cc\",\n",
        "        \"student@stanford.edu\": \"882c6df720fd99f5eebb1581a1cf975625cea8a160283011c0b9512bb56c95fb\",\n",
        "    }\n",
        "\n",
        "    print(login(\"example@gmail.com\", stored_logins, \"password123\"))\n",
        "    print(login(\"example@gmail.com\", stored_logins, \"password123\"))\n",
        "\n",
        "    print(login(\"code_in_placer@cip.org\", stored_logins, \"Karel\"))\n",
        "    print(login(\"code_in_placer@cip.org\", stored_logins, \"Karel\"))\n",
        "\n",
        "    print(login(\"student@stanford.edu\", stored_logins, \"password\"))\n",
        "    print(login(\"student@stanford.edu\", stored_logins, \"123!456?789\"))\n",
        "\n",
        "\n",
        "if __name__ == \"__main__\":\n",
        "    main()"
      ],
      "metadata": {
        "colab": {
          "base_uri": "https://localhost:8080/"
        },
        "id": "q43EKZC9IDg6",
        "outputId": "c48c29fe-853a-4499-e9ab-846f6dfdfe32"
      },
      "execution_count": 1,
      "outputs": [
        {
          "output_type": "stream",
          "name": "stdout",
          "text": [
            "False\n",
            "False\n",
            "False\n",
            "False\n",
            "False\n",
            "True\n"
          ]
        }
      ]
    }
  ]
}